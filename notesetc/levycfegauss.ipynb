{
 "cells": [
  {
   "cell_type": "code",
   "execution_count": 1,
   "id": "2b828089",
   "metadata": {},
   "outputs": [],
   "source": [
    "import numpy as np"
   ]
  },
  {
   "cell_type": "code",
   "execution_count": 2,
   "id": "b58e8561",
   "metadata": {},
   "outputs": [],
   "source": [
    "import matplotlib\n",
    "%matplotlib inline\n",
    "import matplotlib.pyplot as plt"
   ]
  },
  {
   "cell_type": "code",
   "execution_count": 149,
   "id": "b9332ca8",
   "metadata": {},
   "outputs": [],
   "source": [
    "# constant diffusion\n",
    "g = 0.25\n",
    "\n",
    "# levy alpha parameter\n",
    "alpha = 1.0\n",
    "\n",
    "# time step\n",
    "h = 0.001\n",
    "\n",
    "# for stretch = 1, this is an equispaced grid on the closed interval [-lmax, lmax]\n",
    "# for stretch > 1, this is a way to create a non-equispaced grid on [-lmax, lmax]\n",
    "#                  that is highly concentrated near the origin\n",
    "npts = 257\n",
    "stretch = 1.0\n",
    "lmax = 4\n",
    "\n",
    "du = 2.0/(npts - 1)\n",
    "startvec = -1.0 + np.arange(npts)*du\n",
    "uvec = lmax*np.sign(startvec)*(np.abs(startvec)**stretch)\n",
    "ugrid1, ugrid2 = np.meshgrid(uvec, uvec)\n",
    "\n",
    "# this is a scaling factor used in all the collocation functions below\n",
    "zeta = 1.0"
   ]
  },
  {
   "cell_type": "code",
   "execution_count": 136,
   "id": "8e9a30ec",
   "metadata": {},
   "outputs": [],
   "source": [
    "# define true drift\n",
    "def truef(x):\n",
    "    return np.sin(x)"
   ]
  },
  {
   "cell_type": "code",
   "execution_count": 150,
   "id": "9e72f277",
   "metadata": {},
   "outputs": [
    {
     "name": "stdout",
     "output_type": "stream",
     "text": [
      "3.607535314227469\n",
      "5.474610673589985e-16\n"
     ]
    }
   ],
   "source": [
    "# these parameters define the RBF or Gaussian grid that we use to approximate the drift f(x)\n",
    "L = 2\n",
    "xmax = L*np.pi\n",
    "xpts = 17\n",
    "xvec = np.linspace(-xmax, xmax, xpts)\n",
    "\n",
    "# key parameter that is used below, controls how close the Gaussians are\n",
    "sigma = 0.5\n",
    "\n",
    "# actual approximation of f is via one call to np.linalg.solve\n",
    "xgrid1, xgrid2 = np.meshgrid(xvec, xvec)\n",
    "gaussmat = np.exp(-(xgrid1 - xgrid2)**2/(2*sigma**2))\n",
    "print(np.linalg.cond(gaussmat))\n",
    "f = truef(xvec)\n",
    "thetatrue = np.linalg.solve(gaussmat, f)\n",
    "\n",
    "print(np.linalg.norm( f - gaussmat@thetatrue) )"
   ]
  },
  {
   "cell_type": "code",
   "execution_count": 151,
   "id": "d02996da",
   "metadata": {},
   "outputs": [],
   "source": [
    "# fine grid for plotting\n",
    "xplotpts = 256\n",
    "xplotvec = np.linspace(-xmax, xmax, xplotpts)\n",
    "xplotgrid1, xplotgrid2 = np.meshgrid(xvec, xplotvec)\n",
    "gaussplotmat = np.exp(-(xplotgrid1 - xplotgrid2)**2/(2*sigma**2))\n",
    "fplot = truef(xplotvec)\n",
    "approxplot = gaussplotmat @ thetatrue"
   ]
  },
  {
   "cell_type": "code",
   "execution_count": 152,
   "id": "89f892c7",
   "metadata": {},
   "outputs": [
    {
     "data": {
      "image/png": "[encoded data removed]",
      "text/plain": [
       "<Figure size 432x288 with 1 Axes>"
      ]
     },
     "metadata": {
      "needs_background": "light"
     },
     "output_type": "display_data"
    }
   ],
   "source": [
    "plt.plot(xplotvec, fplot, color='black')\n",
    "plt.plot(xplotvec, approxplot, color='red')\n",
    "plt.show()"
   ]
  },
  {
   "cell_type": "code",
   "execution_count": 153,
   "id": "babedb14",
   "metadata": {},
   "outputs": [],
   "source": [
    "# set up objects that do not depend on theta outside the function\n",
    "\n",
    "# here we set up (s-u)*x    \n",
    "inner = np.einsum('jk,i->jki',ugrid1-ugrid2,xvec)\n",
    "\n",
    "# normalization times Gaussian term\n",
    "firstpart = np.sqrt(2*np.pi*sigma**2)*np.exp(-(sigma**2/2)*(ugrid1-ugrid2)**2)\n",
    "    \n",
    "# return fhat(s-u) as a matrix\n",
    "def fhat(theta):\n",
    "    # now compute complex exponential and sum against theta\n",
    "    sumout = np.einsum('i,jki->jk',theta,np.exp(1j*inner))\n",
    "    # final result\n",
    "    return firstpart*sumout"
   ]
  },
  {
   "cell_type": "code",
   "execution_count": 154,
   "id": "ee93e235",
   "metadata": {},
   "outputs": [],
   "source": [
    "# additional decay term\n",
    "decayterm = np.exp(-(xgrid1-xgrid2)**2/(4*sigma**2))\n",
    "\n",
    "# slightly modified term from above\n",
    "firstpart2 = np.sqrt(np.pi*sigma**2)*np.exp(-(sigma**2/4)*(ugrid1-ugrid2)**2)\n",
    "\n",
    "# return f2hat(s-u) as a matrix\n",
    "def f2hat(theta):\n",
    "    # einsum won't work so let's use a double for loop\n",
    "    sumout = np.zeros((npts,npts), dtype=np.complex128)\n",
    "    for i in range(xpts):\n",
    "        for j in range(xpts):\n",
    "            sumout += theta[i]*theta[j]*np.exp(0.5j*(ugrid1-ugrid2)*(xvec[i]+xvec[j]))*decayterm[i,j]\n",
    "\n",
    "    return firstpart2*sumout"
   ]
  },
  {
   "cell_type": "code",
   "execution_count": 155,
   "id": "31c4e811",
   "metadata": {},
   "outputs": [],
   "source": [
    "fhatmat = fhat(thetatrue)"
   ]
  },
  {
   "cell_type": "code",
   "execution_count": 156,
   "id": "0afc47a1",
   "metadata": {},
   "outputs": [],
   "source": [
    "f2hatmat = f2hat(thetatrue)"
   ]
  },
  {
   "cell_type": "code",
   "execution_count": 157,
   "id": "7ca42f8f",
   "metadata": {},
   "outputs": [
    {
     "data": {
      "image/png": "[encoded data removed]",
      "text/plain": [
       "<Figure size 432x288 with 1 Axes>"
      ]
     },
     "metadata": {
      "needs_background": "light"
     },
     "output_type": "display_data"
    }
   ],
   "source": [
    "# start with a nice Gaussian initial condition\n",
    "psi0 = np.ones(npts) # np.exp(-0.1*uvec**2)\n",
    "plt.plot(uvec, psi0)\n",
    "plt.show()"
   ]
  },
  {
   "cell_type": "code",
   "execution_count": 158,
   "id": "ec49c904",
   "metadata": {},
   "outputs": [
    {
     "data": {
      "text/plain": [
       "1.0"
      ]
     },
     "execution_count": 158,
     "metadata": {},
     "output_type": "execute_result"
    }
   ],
   "source": [
    "psi0[npts//2]"
   ]
  },
  {
   "cell_type": "code",
   "execution_count": 159,
   "id": "6adc1294",
   "metadata": {},
   "outputs": [
    {
     "data": {
      "text/plain": [
       "0.0078125"
      ]
     },
     "execution_count": 159,
     "metadata": {},
     "output_type": "execute_result"
    }
   ],
   "source": [
    "du"
   ]
  },
  {
   "cell_type": "code",
   "execution_count": 160,
   "id": "17b2daf1",
   "metadata": {},
   "outputs": [
    {
     "name": "stdout",
     "output_type": "stream",
     "text": [
      "(0.9997575891708905-1.702630098769157e-36j)\n",
      "(0.9973398241191681-6.596727360020825e-36j)\n",
      "(0.9949335452780138-1.7894697439361536e-35j)\n",
      "(0.9925386859371104-2.6178626534796975e-35j)\n",
      "(0.9901551798526295-2.18498685878939e-35j)\n",
      "(0.9877829612435808-1.3754018588590028e-35j)\n",
      "(0.9854219647881899-2.2628266253329035e-35j)\n",
      "(0.9830721256203072-2.2652143482330112e-35j)\n",
      "(0.9807333793258464-2.2481329459476249e-35j)\n",
      "(0.9784056619392496-2.2728917957118193e-35j)\n",
      "(0.976088909939983-2.0298216044808482e-35j)\n",
      "(0.9737830602490615-1.7700373529491226e-35j)\n",
      "(0.9714880502255996-1.675299855112539e-35j)\n",
      "(0.9692038176633923-1.206975558905247e-35j)\n",
      "(0.9669303007875222-7.533816762816967e-36j)\n",
      "(0.9646674382509961+4.105046678262207e-36j)\n",
      "(0.962415169131407-3.549625597498676e-36j)\n",
      "(0.9601734329276245+4.345288336211512e-36j)\n",
      "(0.9579421695565125+1.4303562197599447e-35j)\n",
      "(0.9557213193496713+2.6055566969945267e-35j)\n",
      "(0.9535108230502096+2.934070633850893e-35j)\n",
      "(0.9513106218095408+2.4260734033033486e-35j)\n",
      "(0.9491206571842045+2.2522104419770397e-35j)\n",
      "(0.9469408711327162+1.358798001153638e-35j)\n",
      "(0.9447712060124415+1.771249581498408e-35j)\n",
      "(0.9426116045764954+3.04757930710217e-35j)\n",
      "(0.9404620099706674+2.880291767300773e-35j)\n",
      "(0.9383223657303719+3.4915488297283627e-35j)\n",
      "(0.9361926157776227+2.3517601198123021e-35j)\n",
      "(0.9340727044180329+1.9412554519860814e-35j)\n",
      "(0.9319625763378387+2.687731098956697e-35j)\n",
      "(0.9298621766009478+2.706208400783685e-35j)\n",
      "(0.9277714506460119+2.3182952650123301e-35j)\n",
      "(0.9256903442835235+2.9564417607149795e-35j)\n",
      "(0.9236188036929339+3.0023962429924383e-35j)\n",
      "(0.9215567754197994+1.8378486833121833e-35j)\n",
      "(0.9195042063729456+2.638948083397572e-35j)\n",
      "(0.9174610438216593+2.6761965606392535e-35j)\n",
      "(0.9154272353928994+2.194133674206726e-35j)\n",
      "(0.9134027290685339+1.324965804369034e-35j)\n",
      "(0.9113874731825973+6.578360260789226e-36j)\n",
      "(0.9093814164185711-1.1211277370967567e-36j)\n",
      "(0.9073845078066869+4.6027950674385195e-36j)\n",
      "(0.9053966967212504+1.0336636105558859e-35j)\n",
      "(0.9034179328779888+2.3873555581231395e-35j)\n",
      "(0.9014481663314179+3.035787629395484e-35j)\n",
      "(0.8994873474722322+3.177508167066496e-35j)\n",
      "(0.8975354270247168+2.443375210779514e-35j)\n",
      "(0.8955923560441776+2.575177514865463e-35j)\n",
      "(0.8936580859143963+3.136953611963127e-35j)\n",
      "(0.8917325683451034+4.895750300182511e-35j)\n",
      "(0.8898157553694723+5.385343697299994e-35j)\n",
      "(0.8879075993416349+5.966919527369321e-35j)\n",
      "(0.8860080529342161+6.575384790713708e-35j)\n",
      "(0.8841170691358905+6.414966546024929e-35j)\n",
      "(0.8822346012489561+8.287822920472538e-35j)\n",
      "(0.8803606028869306+9.023902789278069e-35j)\n",
      "(0.8784950279721655+8.85452140016427e-35j)\n",
      "(0.8766378307334808+8.203370998205649e-35j)\n",
      "(0.8747889657038176+9.878964726905894e-35j)\n",
      "(0.8729483877179125+1.0227278396733923e-34j)\n",
      "(0.8711160519099875+1.1582256041247388e-34j)\n",
      "(0.869291913711462+1.2182823451922188e-34j)\n",
      "(0.867475928848681+1.2068763765693963e-34j)\n",
      "(0.8656680533406631+1.2563793824183998e-34j)\n",
      "(0.8638682434968676+1.210230208889086e-34j)\n",
      "(0.8620764559149777+1.2099106213624563e-34j)\n",
      "(0.8602926474787034+1.1721919463804461e-34j)\n",
      "(0.8585167753556024+1.1441637529530272e-34j)\n",
      "(0.8567487969949178+1.2806349736636485e-34j)\n",
      "(0.8549886701254342+1.1754833305627485e-34j)\n",
      "(0.8532363527533511+1.143171929594521e-34j)\n",
      "(0.8514918031601731+1.0151459011105885e-34j)\n",
      "(0.8497549799006198+1.066761123371226e-34j)\n",
      "(0.8480258418005477+1.1261015475686735e-34j)\n",
      "(0.8463043479548953+1.1404278849693201e-34j)\n",
      "(0.8445904577256397+1.035180732952416e-34j)\n",
      "(0.8428841307397726+9.193504583582647e-35j)\n",
      "(0.8411853268872934+8.896655525801557e-35j)\n",
      "(0.8394940063192157+8.039205865273624e-35j)\n",
      "(0.8378101294455933+7.770054393133784e-35j)\n",
      "(0.8361336569335599+7.0694597600437e-35j)\n",
      "(0.8344645497053871+7.783168501985145e-35j)\n",
      "(0.8328027689365551+6.699142305336217e-35j)\n",
      "(0.8311482760538428+5.796068770316994e-35j)\n",
      "(0.8295010327334298+4.846599942638755e-35j)\n",
      "(0.8278610008990179+3.8665682618391356e-35j)\n",
      "(0.8262281427199641+3.2719885255138373e-35j)\n",
      "(0.8246024206094305+1.7758046221078445e-35j)\n",
      "(0.82298379722255+1.2681747335449322e-35j)\n",
      "(0.8213722354546062+1.0616550697848416e-35j)\n",
      "(0.8197676984392273+5.478905700785756e-37j)\n",
      "(0.8181701495465962-8.221480958048005e-36j)\n",
      "(0.8165795523816745-2.6380664626344555e-35j)\n",
      "(0.8149958707824404-2.582450886161176e-35j)\n",
      "(0.8134190688181429-3.570857964210404e-35j)\n",
      "(0.811849110787567-4.963028984667856e-35j)\n",
      "(0.8102859612173166-6.034161477656202e-35j)\n",
      "(0.8087295848601087-6.437723381972879e-35j)\n",
      "(0.8071799466930829-5.778124114367723e-35j)\n",
      "(0.8056370119161244-7.048025355240425e-35j)\n",
      "(0.8041007459501995-7.979127083687066e-35j)\n",
      "(0.8025711144357072-8.780538724459393e-35j)\n",
      "(0.8010480832308411-9.438980864812958e-35j)\n",
      "(0.7995316184099671-1.014484685538251e-34j)\n",
      "(0.7980216862620134-1.005084404151519e-34j)\n",
      "(0.7965182532888729-1.075658146239012e-34j)\n",
      "(0.7950212862038203-1.1481402299366682e-34j)\n",
      "(0.7935307519299395-1.2072951464318767e-34j)\n",
      "(0.7920466175985672-1.3452871629588743e-34j)\n",
      "(0.7905688505477456-1.2926893008893464e-34j)\n",
      "(0.7890974183206904-1.368865008242477e-34j)\n",
      "(0.7876322886642696-1.4998095687943103e-34j)\n",
      "(0.7861734295274956-1.5618242426398786e-34j)\n",
      "(0.7847208090600286-1.6398917612138638e-34j)\n",
      "(0.7832743956106937-1.7789692733054488e-34j)\n",
      "(0.7818341577260083-1.9010425249284202e-34j)\n",
      "(0.7804000641487224-2.0383494486540792e-34j)\n",
      "(0.7789720838163707-2.0807682643294554e-34j)\n",
      "(0.777550185859836-2.088359386441875e-34j)\n",
      "(0.7761343396019255-2.1311730947507304e-34j)\n",
      "(0.7747245145559558-2.1519168966228975e-34j)\n",
      "(0.7733206804243536-2.1050734467426293e-34j)\n",
      "(0.7719228070972641-2.110342967512175e-34j)\n",
      "(0.7705308646511719-2.2167178594218992e-34j)\n",
      "(0.7691448233475335-2.245478900108659e-34j)\n",
      "(0.767764653631421-2.1963230324351325e-34j)\n",
      "(0.7663903261301749-2.2551932588922512e-34j)\n",
      "(0.7650218116520712-2.3467881460503085e-34j)\n",
      "(0.7636590811849957-2.392496509198064e-34j)\n",
      "(0.762302105895132-2.4505934807775323e-34j)\n",
      "(0.7609508571256574-2.5182927718352802e-34j)\n",
      "(0.7596053063954512-2.5939248130511555e-34j)\n",
      "(0.7582654253978138-2.5919944309219145e-34j)\n",
      "(0.756931185999194-2.5883834592129823e-34j)\n",
      "(0.7556025602379287-2.7443880899564083e-34j)\n",
      "(0.7542795203229915-2.7784057944432514e-34j)\n",
      "(0.7529620386327528-2.878269549675374e-34j)\n",
      "(0.7516500877137475-3.0297522005879807e-34j)\n",
      "(0.7503436402794555-3.15724741990412e-34j)\n",
      "(0.7490426692090902-3.266019218263568e-34j)\n",
      "(0.7477471475463963-3.4413405272688657e-34j)\n",
      "(0.7464570484984598-3.5237812521698944e-34j)\n",
      "(0.7451723454345253-3.6360574930627313e-34j)\n",
      "(0.7438930118848232-3.773362580078467e-34j)\n",
      "(0.7426190215394072-3.84019861747233e-34j)\n",
      "(0.7413503482470004-3.931468406973988e-34j)\n",
      "(0.7400869660138514-4.041371618646102e-34j)\n",
      "(0.7388288490025986-4.143472486564634e-34j)\n",
      "(0.7375759715311445-4.258222775723967e-34j)\n",
      "(0.7363283080715386-4.376246081966371e-34j)\n",
      "(0.7350858332488693-4.425249502716275e-34j)\n",
      "(0.7338485218401656-4.541230387524125e-34j)\n",
      "(0.7326163487733056-4.719966140276577e-34j)\n",
      "(0.7313892891259364-4.821413139462464e-34j)\n",
      "(0.7301673181244-4.8915791319470155e-34j)\n",
      "(0.7289504111426705-4.993597347919005e-34j)\n",
      "(0.727738543701297-5.017384578133848e-34j)\n",
      "(0.7265316914663571-5.1143059240690685e-34j)\n",
      "(0.7253298302484186-5.193308327993942e-34j)\n",
      "(0.7241329360015083-5.230527417876853e-34j)\n",
      "(0.7229409848220898-5.298695069965006e-34j)\n",
      "(0.72175395294805-5.431990619218484e-34j)\n",
      "(0.7205718167576926-5.546171528301638e-34j)\n",
      "(0.7193945527687409-5.624360269730552e-34j)\n",
      "(0.7182221376373474-5.6803597185777715e-34j)\n",
      "(0.717054548157112-5.741924398492166e-34j)\n",
      "(0.7158917612581076-5.7773067784519165e-34j)\n",
      "(0.714733754005914-5.879392952691063e-34j)\n",
      "(0.7135805036006596-5.940621514689519e-34j)\n",
      "(0.7124319873760703-5.990949203294021e-34j)\n",
      "(0.7112881827985255-6.127253283401635e-34j)\n",
      "(0.7101490674661222-6.124815969333602e-34j)\n",
      "(0.7090146191077483-6.222058739505375e-34j)\n",
      "(0.7078848155821591-6.283155058389364e-34j)\n",
      "(0.7067596348770661-6.351710256271304e-34j)\n",
      "(0.7056390551082284-6.487615770325592e-34j)\n",
      "(0.7045230545185547-6.546432732194939e-34j)\n",
      "(0.7034116114772112-6.6000113973634345e-34j)\n",
      "(0.7023047044787367-6.6677345656501835e-34j)\n",
      "(0.7012023121421642-6.805177405910156e-34j)\n",
      "(0.7001044132101504-6.948558329351705e-34j)\n",
      "(0.6990109865481112-7.03178149268e-34j)\n",
      "(0.6979220111433655-7.152115380005739e-34j)\n",
      "(0.696837466104284-7.322984504157297e-34j)\n",
      "(0.6957573306594453-7.436338893775029e-34j)\n",
      "(0.6946815841567999-7.434123821607698e-34j)\n",
      "(0.6936102060628393-7.592115772487983e-34j)\n",
      "(0.6925431759617723-7.674558334098935e-34j)\n",
      "(0.6914804735547079-7.754499296794543e-34j)\n",
      "(0.6904220786588445-7.850938506374934e-34j)\n",
      "(0.6893679712066657-7.929130921223694e-34j)\n",
      "(0.6883181312451417-8.02854835594449e-34j)\n",
      "(0.6872725389349383-8.108040243063885e-34j)\n",
      "(0.6862311745496311-8.115208003539016e-34j)\n",
      "(0.6851940184749267-8.223516950997828e-34j)\n",
      "(0.6841610512078883-8.298791752133649e-34j)\n",
      "(0.6831322533561703-8.401721894582487e-34j)\n",
      "(0.6821076056372568-8.554027391540669e-34j)\n",
      "(0.6810870888777061-8.602124395943494e-34j)\n",
      "(0.6800706840124014-8.668076057509355e-34j)\n",
      "(0.6790583720838093-8.802543427693809e-34j)\n",
      "(0.6780501342412404-8.906968652020099e-34j)\n",
      "(0.6770459517401195-9.038320043819912e-34j)\n"
     ]
    },
    {
     "name": "stdout",
     "output_type": "stream",
     "text": [
      "(0.6760458059412588-9.164921703758434e-34j)\n",
      "(0.6750496783101382-9.276933458422336e-34j)\n",
      "(0.6740575504161904-9.306059086028843e-34j)\n",
      "(0.6730694039320924-9.38409262546925e-34j)\n",
      "(0.6720852206330624-9.525737858033412e-34j)\n",
      "(0.671104982396162-9.636849624834966e-34j)\n",
      "(0.6701286711996034-9.753102342711444e-34j)\n",
      "(0.6691562691220625-9.826999611404894e-34j)\n",
      "(0.6681877583419982-9.953131073603088e-34j)\n",
      "(0.667223121136975-1.0057607725807226e-33j)\n",
      "(0.6662623398829929-1.014324248926463e-33j)\n",
      "(0.6653053970538212-1.0266464602944538e-33j)\n",
      "(0.6643522752203385-1.0382546506798162e-33j)\n",
      "(0.6634029570498765-1.0404809267776782e-33j)\n",
      "(0.6624574253055708-1.0490439439459378e-33j)\n",
      "(0.6615156628457143-1.0596768413621023e-33j)\n",
      "(0.6605776526231186-1.0691941211709396e-33j)\n",
      "(0.6596433776844774-1.0756683399790856e-33j)\n",
      "(0.6587128211697368-1.0855571862053781e-33j)\n",
      "(0.6577859663114702-1.1010063043820524e-33j)\n",
      "(0.6568627964342569-1.1093762833373878e-33j)\n",
      "(0.6559432949540674-1.121357509508144e-33j)\n",
      "(0.6550274453776515-1.1338460349596769e-33j)\n",
      "(0.6541152313019325-1.14753328914256e-33j)\n",
      "(0.6532066364134057-1.15860874181471e-33j)\n",
      "(0.6523016444875417-1.1706124676820249e-33j)\n",
      "(0.6514002393881929-1.1791384751453328e-33j)\n",
      "(0.6505024050670077-1.1861972268865244e-33j)\n",
      "(0.649608125562846-1.1953261343821096e-33j)\n",
      "(0.6487173850012004-1.1991381339921316e-33j)\n",
      "(0.647830167593623-1.2086225366933443e-33j)\n",
      "(0.6469464576371547-1.2189949886424048e-33j)\n",
      "(0.6460662395137604-1.2290392205281966e-33j)\n",
      "(0.6451894976897675-1.2413165243385661e-33j)\n",
      "(0.6443162167153093-1.2467707262908854e-33j)\n",
      "(0.6434463812237721-1.2473092496403558e-33j)\n",
      "(0.6425799759312482-1.2536473682431958e-33j)\n",
      "(0.6417169856359901-1.2663864209282477e-33j)\n",
      "(0.6408573952178725-1.2770357568982245e-33j)\n",
      "(0.6400011896378553-1.290471473657131e-33j)\n",
      "(0.639148353937452-1.3014774986941854e-33j)\n",
      "(0.6382988732382024-1.3118993581401789e-33j)\n",
      "(0.6374527327411498-1.3188912536401675e-33j)\n",
      "(0.6366099177263204-1.3277847867590997e-33j)\n",
      "(0.6357704135522082-1.3362025201724373e-33j)\n",
      "(0.6349342056552633-1.343136283803358e-33j)\n",
      "(0.6341012795493838-1.3519433997204055e-33j)\n",
      "(0.6332716208254128-1.3627324174800386e-33j)\n",
      "(0.6324452151506376-1.3721273724079934e-33j)\n",
      "(0.6316220482682937-1.385008678276594e-33j)\n",
      "(0.6308021059970723-1.395408680874502e-33j)\n",
      "(0.6299853742306318-1.4105339870917231e-33j)\n",
      "(0.6291718389371125-1.419702843028137e-33j)\n",
      "(0.6283614861586551-1.4372921874427732e-33j)\n",
      "(0.6275543020109237-1.4496205517890065e-33j)\n",
      "(0.6267502726826308-1.4557409284304559e-33j)\n",
      "(0.625949384435068-1.4669308081308186e-33j)\n",
      "(0.6251516236016376-1.4807367137747379e-33j)\n",
      "(0.6243569765873902-1.4935602551162552e-33j)\n",
      "(0.6235654298685648-1.4975368239353923e-33j)\n",
      "(0.6227769699921311-1.5096767418435095e-33j)\n",
      "(0.6219915835753387-1.5235721870961829e-33j)\n",
      "(0.6212092573052658-1.5369217621596931e-33j)\n",
      "(0.620429977938373-1.5497891090328777e-33j)\n",
      "(0.6196537323000612-1.556626169886344e-33j)\n",
      "(0.618880507284232-1.562724781515204e-33j)\n",
      "(0.6181102898528508-1.5732851288894036e-33j)\n",
      "(0.6173430670355143-1.5900809227817386e-33j)\n",
      "(0.6165788259290211-1.595305076816182e-33j)\n",
      "(0.6158175536969441-1.602202381755128e-33j)\n",
      "(0.6150592375692087-1.6070936321159988e-33j)\n",
      "(0.6143038648416709-1.612364622253483e-33j)\n",
      "(0.6135514228757019-1.6235511040404878e-33j)\n",
      "(0.6128018990977734-1.633712977196858e-33j)\n",
      "(0.6120552809990467-1.6454565331035573e-33j)\n",
      "(0.6113115561349651-1.6522553903906218e-33j)\n",
      "(0.6105707121248499-1.6569885000271085e-33j)\n",
      "(0.6098327366514968-1.665271235261094e-33j)\n",
      "(0.6090976174607791-1.6729630090773026e-33j)\n",
      "(0.6083653423612512-1.681477628939087e-33j)\n",
      "(0.6076358992237555-1.6925248881139163e-33j)\n",
      "(0.6069092759810331-1.6975141269491877e-33j)\n",
      "(0.606185460627336-1.7101951396006677e-33j)\n",
      "(0.6054644412180435-1.721220174585427e-33j)\n",
      "(0.6047462058692814-1.7290991091428056e-33j)\n",
      "(0.6040307427575414-1.738481023430306e-33j)\n",
      "(0.6033180401193079-1.7480989549429324e-33j)\n",
      "(0.6026080862506832-1.748386491881403e-33j)\n",
      "(0.6019008695070189-1.7561564636225903e-33j)\n",
      "(0.6011963783025469-1.762513087077906e-33j)\n",
      "(0.6004946011100151-1.773889163246729e-33j)\n",
      "(0.5997955264603261-1.7778658698191106e-33j)\n",
      "(0.5990991429421766-1.7868951817191123e-33j)\n",
      "(0.5984054392017017-1.795272232007652e-33j)\n",
      "(0.5977144039421197-1.7965677094342047e-33j)\n",
      "(0.5970260259233812-1.8023064636713695e-33j)\n",
      "(0.5963402939618198-1.809928350675002e-33j)\n",
      "(0.5956571969298053-1.8225095381421583e-33j)\n",
      "(0.594976723755401-1.8339843374693512e-33j)\n",
      "(0.5942988634220207-1.8405913504049417e-33j)\n",
      "(0.5936236049680906-1.8477838146285394e-33j)\n",
      "(0.5929509374867132-1.855924296678976e-33j)\n",
      "(0.5922808501253322-1.864911226497501e-33j)\n",
      "(0.5916133320854013-1.8735232379029608e-33j)\n",
      "(0.5909483726220559-1.8813306326088324e-33j)\n",
      "(0.5902859610437855-1.8867619216048603e-33j)\n",
      "(0.5896260867121086-1.8976011274631438e-33j)\n",
      "(0.588968739041252-1.9102324111934543e-33j)\n",
      "(0.5883139074978306-1.91782936485988e-33j)\n",
      "(0.5876615816005293-1.9240092049850915e-33j)\n",
      "(0.5870117509197883-1.930634263595677e-33j)\n",
      "(0.5863644050774908-1.9380176997335353e-33j)\n",
      "(0.5857195337466513-1.948350754254744e-33j)\n",
      "(0.5850771266511082-1.9578804318555626e-33j)\n",
      "(0.5844371735652171-1.967071695653039e-33j)\n",
      "(0.5837996643135469-1.973702172557898e-33j)\n",
      "(0.5831645887705779-1.9791827772153625e-33j)\n",
      "(0.5825319368604024-1.990632321781112e-33j)\n",
      "(0.5819016985564273-1.9996381697118454e-33j)\n",
      "(0.5812738638810785-2.013361607080215e-33j)\n",
      "(0.5806484229055081-2.0172976764455463e-33j)\n",
      "(0.5800253657493027-2.0228139132755203e-33j)\n",
      "(0.5794046825801948-2.032388314762968e-33j)\n",
      "(0.5787863636137757-2.0425935801912727e-33j)\n",
      "(0.5781703991132102-2.0512898047467094e-33j)\n",
      "(0.5775567793889544-2.0606406327187603e-33j)\n",
      "(0.5769454947984741-2.0670130977971634e-33j)\n",
      "(0.5763365357459663-2.0754009387565016e-33j)\n",
      "(0.5757298926820824-2.081066316432236e-33j)\n",
      "(0.5751255561036526-2.0905476426443275e-33j)\n",
      "(0.5745235165534135-2.098787949879088e-33j)\n",
      "(0.5739237646197368-2.105289443829593e-33j)\n",
      "(0.5733262909363601-2.1131468888808706e-33j)\n",
      "(0.5727310861821199-2.1190767987032883e-33j)\n",
      "(0.5721381410806852-2.1304181610545636e-33j)\n",
      "(0.5715474464002959-2.1367918659121648e-33j)\n",
      "(0.5709589929534992-2.1495687089038857e-33j)\n",
      "(0.5703727715968911-2.1583174174453767e-33j)\n",
      "(0.5697887732308577-2.1685219481897123e-33j)\n",
      "(0.5692069887993195-2.1837430388294263e-33j)\n",
      "(0.5686274092894765-2.1898575379991215e-33j)\n",
      "(0.5680500257315563-2.1978951642938612e-33j)\n",
      "(0.5674748291985622-2.2075845897402466e-33j)\n",
      "(0.5669018108060254-2.2177625341084445e-33j)\n",
      "(0.5663309617117568-2.2205457465727566e-33j)\n",
      "(0.565762273115602-2.231183832694454e-33j)\n",
      "(0.5651957362591966-2.2416101461620112e-33j)\n",
      "(0.5646313424257247-2.2459367918925027e-33j)\n",
      "(0.5640690829396782-2.2542348177365983e-33j)\n",
      "(0.5635089491666178-2.2657383615740887e-33j)\n",
      "(0.5629509325129362-2.274334990533942e-33j)\n",
      "(0.5623950244256218-2.279343652576651e-33j)\n",
      "(0.5618412163920261-2.2896127895925336e-33j)\n",
      "(0.5612894999396301-2.2984979197635673e-33j)\n",
      "(0.5607398666358139-2.305089963513284e-33j)\n",
      "(0.5601923080876284-2.3190445508254832e-33j)\n",
      "(0.5596468159415673-2.3310954801378233e-33j)\n",
      "(0.5591033818833405-2.3380650596122455e-33j)\n",
      "(0.5585619976376509-2.3488390163505088e-33j)\n",
      "(0.5580226549679709-2.3589164926859098e-33j)\n",
      "(0.5574853456763211-2.363838278349253e-33j)\n",
      "(0.5569500616030506-2.3720867589431715e-33j)\n",
      "(0.5564167946266191-2.3828542871967037e-33j)\n",
      "(0.5558855366633793-2.3916900098708044e-33j)\n",
      "(0.5553562796673623-2.39983338473937e-33j)\n",
      "(0.5548290156300638-2.405990265990542e-33j)\n",
      "(0.5543037365802308-2.4119623283056963e-33j)\n",
      "(0.5537804345836522-2.4191308234647968e-33j)\n",
      "(0.5532591017429477-2.4306809278988393e-33j)\n",
      "(0.5527397301973612-2.4421877318964433e-33j)\n",
      "(0.5522223121225531-2.4533858767914602e-33j)\n",
      "(0.5517068397303952-2.4608145878289244e-33j)\n",
      "(0.551193305268768-2.4724986802518614e-33j)\n",
      "(0.5506817010213564-2.4846741384969917e-33j)\n",
      "(0.5501720193074499-2.4908905750674223e-33j)\n",
      "(0.5496642524817428-2.5004095079151904e-33j)\n",
      "(0.5491583929341348-2.5083762831246442e-33j)\n",
      "(0.5486544330895358-2.5197788079163608e-33j)\n",
      "(0.5481523654076683-2.529709852553138e-33j)\n",
      "(0.5476521823828743-2.5410634060665282e-33j)\n",
      "(0.5471538765439211-2.5507491121753192e-33j)\n",
      "(0.5466574404538104-2.5597725006858188e-33j)\n",
      "(0.5461628667095878-2.5652724137563507e-33j)\n",
      "(0.545670147942153-2.5737449270431466e-33j)\n",
      "(0.545179276816072-2.5841036495855314e-33j)\n"
     ]
    },
    {
     "name": "stdout",
     "output_type": "stream",
     "text": [
      "(0.544690246029391-2.592890400981306e-33j)\n",
      "(0.5442030483134502-2.6039855753262557e-33j)\n",
      "(0.5437176764327004-2.613760912879297e-33j)\n",
      "(0.5432341231845188-2.621044730462698e-33j)\n",
      "(0.5427523813990283-2.6288827752654122e-33j)\n",
      "(0.5422724439389164-2.6390080978943115e-33j)\n",
      "(0.5417943036992562-2.6499114049289132e-33j)\n",
      "(0.541317953607328-2.6595601931682488e-33j)\n",
      "(0.5408433866224428-2.6674094189426203e-33j)\n",
      "(0.5403705957357655-2.6799720556395528e-33j)\n",
      "(0.5398995739701412-2.690912900433209e-33j)\n"
     ]
    }
   ],
   "source": [
    "psi = np.copy(psi0)\n",
    "numsteps = 4000\n",
    "for j in range(numsteps):\n",
    "    part1 = (1j*uvec*h/(2*np.pi))*fhatmat @ psi\n",
    "    part2 = -0.5*(uvec**2)*h**2/(2*np.pi)*f2hatmat @ psi\n",
    "    psinew = psi + (part1 + part2)*du\n",
    "    psi = np.exp(-h*np.abs(uvec*g)**alpha) * psinew\n",
    "    if j % 10 == 0:\n",
    "        print(psi[npts//2])"
   ]
  },
  {
   "cell_type": "code",
   "execution_count": 161,
   "id": "889c2f70",
   "metadata": {},
   "outputs": [
    {
     "data": {
      "image/png": "[encoded data removed]",
      "text/plain": [
       "<Figure size 432x288 with 1 Axes>"
      ]
     },
     "metadata": {
      "needs_background": "light"
     },
     "output_type": "display_data"
    }
   ],
   "source": [
    "plt.plot(uvec, np.abs(psi))\n",
    "plt.show()"
   ]
  },
  {
   "cell_type": "code",
   "execution_count": 162,
   "id": "5a0a194e",
   "metadata": {},
   "outputs": [],
   "source": [
    "ftmat = np.exp(-1j * np.expand_dims(uvec,1) @ np.expand_dims(xplotvec, 0))"
   ]
  },
  {
   "cell_type": "code",
   "execution_count": 163,
   "id": "4b771837",
   "metadata": {},
   "outputs": [
    {
     "data": {
      "image/png": "[encoded data removed]",
      "text/plain": [
       "<Figure size 432x288 with 1 Axes>"
      ]
     },
     "metadata": {
      "needs_background": "light"
     },
     "output_type": "display_data"
    }
   ],
   "source": [
    "plt.plot(xplotvec, np.real(psi @ ftmat))\n",
    "plt.show()"
   ]
  },
  {
   "cell_type": "code",
   "execution_count": null,
   "id": "1dd8818e",
   "metadata": {},
   "outputs": [],
   "source": []
  }
 ],
 "metadata": {
  "kernelspec": {
   "display_name": "Python 3",
   "language": "python",
   "name": "python3"
  },
  "language_info": {
   "codemirror_mode": {
    "name": "ipython",
    "version": 3
   },
   "file_extension": ".py",
   "mimetype": "text/x-python",
   "name": "python",
   "nbconvert_exporter": "python",
   "pygments_lexer": "ipython3",
   "version": "3.7.11"
  }
 },
 "nbformat": 4,
 "nbformat_minor": 5
}
