{
 "cells": [
  {
   "cell_type": "code",
   "execution_count": 1,
   "metadata": {
    "collapsed": true
   },
   "outputs": [],
   "source": [
    "import numpy as np\n",
    "import scipy.special as sspec\n",
    "import scipy.stats as ss\n",
    "import scipy.sparse as sspar\n",
    "import multiprocessing as mp\n",
    "import time\n",
    "\n",
    "%matplotlib inline \n",
    "import matplotlib.pyplot as plt"
   ]
  },
  {
   "cell_type": "code",
   "execution_count": 2,
   "metadata": {
    "collapsed": true
   },
   "outputs": [],
   "source": [
    "def drift(x):\n",
    "    return np.arctan(x)\n",
    "\n",
    "def diff(x):\n",
    "    return np.sqrt(1 + x**2)"
   ]
  },
  {
   "cell_type": "code",
   "execution_count": 3,
   "metadata": {
    "collapsed": true
   },
   "outputs": [],
   "source": [
    "def f(x,s,h):\n",
    "    return np.exp(1j*s*h*drift(x) - h*np.abs(s)*diff(x)) "
   ]
  },
  {
   "cell_type": "code",
   "execution_count": 4,
   "metadata": {
    "collapsed": true
   },
   "outputs": [],
   "source": [
    "# set up nonequispaced grids of s and u values\n",
    "# uvec will have length sres+1, which is to implement nonequispaced quadrature later\n",
    "smax = 10\n",
    "sres = 250\n",
    "uvec = smax*np.exp(-np.linspace(np.log(smax),0,sres//2)**4)\n",
    "uvec = np.hstack([-np.flip(uvec,axis=0), 0, uvec])\n",
    "svec = np.copy(uvec)\n",
    "ures = len(uvec)\n",
    "sres = len(svec)"
   ]
  },
  {
   "cell_type": "code",
   "execution_count": 5,
   "metadata": {
    "collapsed": true
   },
   "outputs": [],
   "source": [
    "# set the value of h\n",
    "thish = 0.25\n",
    "\n",
    "# set the initial condition parameters\n",
    "mymean = 0.5\n",
    "mysd = 0.5\n",
    "\n",
    "# set the initial pdf\n",
    "def initp(x):\n",
    "    return ss.norm.pdf(x,loc=mymean,scale=mysd)\n",
    "\n",
    "# set the initial charfun\n",
    "def initpcf(s):\n",
    "    return np.exp(1j*mymean*s - 0.5*(mysd*s)**2)"
   ]
  },
  {
   "cell_type": "code",
   "execution_count": 6,
   "metadata": {
    "collapsed": true
   },
   "outputs": [],
   "source": [
    "# set up x grid for integration\n",
    "Nx = 128\n",
    "L = 12.8\n",
    "dx = L/Nx\n",
    "xvec = np.arange(-L/2,L/2,dx)"
   ]
  },
  {
   "cell_type": "code",
   "execution_count": 21,
   "metadata": {
    "collapsed": true
   },
   "outputs": [],
   "source": [
    "# initialize kernel matrix\n",
    "# kernelmat = np.zeros((sres,sres),dtype='D')"
   ]
  },
  {
   "cell_type": "code",
   "execution_count": 7,
   "metadata": {
    "collapsed": true
   },
   "outputs": [],
   "source": [
    "def computeonerow(i):\n",
    "    \n",
    "    outrow = np.zeros(ures,dtype='D')\n",
    "    s = svec[i]\n",
    "    \n",
    "    # handle special Dirac delta case\n",
    "    if i==(sres//2):\n",
    "        return sspar.csr_matrix(outrow[:-1]), sspar.csr_matrix(outrow[1:])\n",
    "    \n",
    "    # handle \"boundary layer\" near Dirac delta\n",
    "    # if np.abs(svec[i])<1.0:\n",
    "    #     outrow[sres//2] = 1.0/ds\n",
    "    #     outrow[(sres//2 + 1)] = s*0.5/(ds*ds)\n",
    "    #     outrow[(sres//2 - 1)] = -s*0.5/(ds*ds)\n",
    "    #     return outrow\n",
    "    \n",
    "    # compute shifted coordinate\n",
    "    k = s - uvec\n",
    "        \n",
    "    # compute integral for all values of u\n",
    "    for j in range(Nx):\n",
    "        \n",
    "        # compute quadrature points\n",
    "        x1 = xvec[j]\n",
    "        x2 = x1 + dx\n",
    "        \n",
    "        # product quadrature rule\n",
    "        m0 = np.divide((np.exp(1j*k*x2) - np.exp(1j*k*x1)), 1j*k, \n",
    "                       out=dx*np.ones_like(k,dtype='D'), where=k!=0)\n",
    "        m1 = np.divide((x2*np.exp(1j*k*x2) - x1*np.exp(1j*k*x1)), 1j*k, \n",
    "                       out=0.5*(x2**2 - x1**2)*np.ones_like(k,dtype='D'), where=k!=0)\n",
    "        m1 += np.divide((np.exp(1j*k*x2) - np.exp(1j*k*x1)), k**2, \n",
    "                        out=np.zeros_like(k,dtype='D'), where=k!=0)\n",
    "        \n",
    "        # compute quadrature weights\n",
    "        w1 = -(m1 - x2*m0)/dx\n",
    "        w2 = (m1 - x1*m0)/dx\n",
    "        \n",
    "        # compute integral over [x1, x2]\n",
    "        outrow += w1*f(x1,s,thish) + w2*f(x2,s,thish)\n",
    "    \n",
    "    # add asymptotic corrections\n",
    "    outrow += 2.0*np.real((1j*np.exp((1j*(thish*np.pi*s + L*k + 1j*thish*L*np.abs(s)))/2.))/(k + 1j*thish*np.abs(s)))\n",
    "    # outrow += (-1j*np.exp((-1j*(thish*np.pi*s + L*k - 1j*thish*L*np.abs(s)))/2.))/(k - 1j*thish*np.abs(s))\n",
    "    outrow /= (2.0*np.pi)\n",
    "    \n",
    "    outrow[np.abs(outrow)<=1.0e-8] = 0\n",
    "    \n",
    "    return sspar.csr_matrix(outrow[:-1]),sspar.csr_matrix(outrow[1:])\n"
   ]
  },
  {
   "cell_type": "code",
   "execution_count": 8,
   "metadata": {
    "collapsed": false
   },
   "outputs": [
    {
     "name": "stdout",
     "output_type": "stream",
     "text": [
      "(251, 250)\n",
      "(251, 250)\n",
      "4.005974054336548\n"
     ]
    }
   ],
   "source": [
    "curtime = time.time()\n",
    "pool = mp.Pool(processes=2)\n",
    "kernelmat = pool.map(computeonerow, range(sres))\n",
    "leftkernelmat, rightkernelmat = map(sspar.vstack, list(zip(*kernelmat)))\n",
    "\n",
    "# templist = [list(x) for x in zip(*kernelmat)]\n",
    "# leftkernelmat = sspar.vstack(templist[0])\n",
    "# rightkernelmat = sspar.vstack(templist[1])\n",
    "\n",
    "print(leftkernelmat.shape)\n",
    "print(rightkernelmat.shape)\n",
    "timetaken = time.time() - curtime\n",
    "print(timetaken)\n",
    "pool.close()\n",
    "\n",
    "# bigeig, _ = ssla.eigs(kernelmat,k=1,which='LM')\n",
    "# print(np.abs(bigeig[0]*ds))\n",
    "# bigeig, _ = ssla.eigs(kernelmat-kernelmat[sres//2,],k=1,which='LM')\n",
    "# print(np.abs(bigeig[0]*ds))\n"
   ]
  },
  {
   "cell_type": "code",
   "execution_count": 9,
   "metadata": {
    "collapsed": false
   },
   "outputs": [
    {
     "data": {
      "text/plain": [
       "[<matplotlib.lines.Line2D at 0x111784a20>]"
      ]
     },
     "execution_count": 9,
     "metadata": {},
     "output_type": "execute_result"
    },
    {
     "data": {
      "image/png": "[encoded data removed]",
      "text/plain": [
       "<matplotlib.figure.Figure at 0x1116daf60>"
      ]
     },
     "metadata": {},
     "output_type": "display_data"
    }
   ],
   "source": [
    "plt.plot(svec, np.abs(initpcf(svec)))"
   ]
  },
  {
   "cell_type": "code",
   "execution_count": 133,
   "metadata": {
    "collapsed": true
   },
   "outputs": [],
   "source": [
    "# plt.plot(svec[1:],np.abs(np.diag(np.dot(kernelmat[1:,1:],np.diag(du)))))"
   ]
  },
  {
   "cell_type": "code",
   "execution_count": 134,
   "metadata": {
    "collapsed": true
   },
   "outputs": [],
   "source": [
    "# testmat = np.random.random((3,3))\n",
    "# print(testmat)\n",
    "\n",
    "# leave out the first column\n",
    "# print(testmat[:,1:])\n",
    "\n",
    "# leave out the last column\n",
    "# print(testmat[:,:-1])\n",
    "\n",
    "# cf = initpcf(svec)\n",
    "# print(len(cf))\n",
    "# print(sres)\n",
    "# cf[(sres-1)//2]"
   ]
  },
  {
   "cell_type": "code",
   "execution_count": 25,
   "metadata": {
    "collapsed": false
   },
   "outputs": [
    {
     "data": {
      "text/plain": [
       "[<matplotlib.lines.Line2D at 0x103a12b70>]"
      ]
     },
     "execution_count": 25,
     "metadata": {},
     "output_type": "execute_result"
    },
    {
     "data": {
      "image/png": "[encoded data removed]",
      "text/plain": [
       "<matplotlib.figure.Figure at 0x1085012e8>"
      ]
     },
     "metadata": {},
     "output_type": "display_data"
    }
   ],
   "source": [
    "du = np.diff(uvec)\n",
    "cf = initpcf(svec)\n",
    "\n",
    "numsteps = 1\n",
    "for i in range(numsteps):\n",
    "    left = cf[0:(sres-1)]*du\n",
    "    right = cf[1:sres]*du\n",
    "    # cf = 0.5*(leftkernelmat[:,:-1].dot(left) + rightkernelmat[:,1:].dot(right))\n",
    "    cf = 0.5*(leftkernelmat.dot(left) + rightkernelmat.dot(right))\n",
    "    cf[(sres-1)//2] = 1.0\n",
    "\n",
    "plt.plot(svec, np.abs(cf))"
   ]
  },
  {
   "cell_type": "code",
   "execution_count": 39,
   "metadata": {
    "collapsed": false
   },
   "outputs": [
    {
     "data": {
      "text/plain": [
       "(0.9832229641339336-0.04512110591971995j)"
      ]
     },
     "execution_count": 39,
     "metadata": {},
     "output_type": "execute_result"
    }
   ],
   "source": [
    "cf[sres//2 - 45]"
   ]
  },
  {
   "cell_type": "code",
   "execution_count": 137,
   "metadata": {
    "collapsed": false
   },
   "outputs": [
    {
     "data": {
      "text/plain": [
       "[<matplotlib.lines.Line2D at 0x7fc7ceffb438>]"
      ]
     },
     "execution_count": 137,
     "metadata": {},
     "output_type": "execute_result"
    },
    {
     "data": {
      "image/png": "[encoded data removed]",
      "text/plain": [
       "<Figure size 432x288 with 1 Axes>"
      ]
     },
     "metadata": {},
     "output_type": "display_data"
    }
   ],
   "source": [
    "# set up x grid for plotting\n",
    "Nxplot = 16384\n",
    "Lplot = 12.8\n",
    "dxplot = Lplot/Nxplot\n",
    "xplot = np.arange(-Lplot/2,Lplot/2,dxplot)\n",
    "\n",
    "# initial PDF\n",
    "plt.plot(xplot, initp(xplot))"
   ]
  },
  {
   "cell_type": "code",
   "execution_count": 138,
   "metadata": {
    "collapsed": true
   },
   "outputs": [],
   "source": [
    "# Fourier matrix\n",
    "fouriermat = np.zeros((Nxplot,sres),dtype='D')\n",
    "for i in range(Nxplot):\n",
    "    fouriermat[i,] = np.exp(-1j*uvec*xplot[i])/(2.0*np.pi)\n"
   ]
  },
  {
   "cell_type": "code",
   "execution_count": 139,
   "metadata": {
    "collapsed": false
   },
   "outputs": [
    {
     "data": {
      "text/plain": [
       "[<matplotlib.lines.Line2D at 0x7fc7ec34a320>]"
      ]
     },
     "execution_count": 139,
     "metadata": {},
     "output_type": "execute_result"
    },
    {
     "data": {
      "image/png": "[encoded data removed]",
      "text/plain": [
       "<Figure size 432x288 with 1 Axes>"
      ]
     },
     "metadata": {},
     "output_type": "display_data"
    }
   ],
   "source": [
    "# PDF at next time step\n",
    "plt.plot(xplot, np.real(dxplot*np.dot(fouriermat,cf)))"
   ]
  },
  {
   "cell_type": "code",
   "execution_count": 140,
   "metadata": {
    "collapsed": true
   },
   "outputs": [],
   "source": [
    "np.save(file='kernelmatNEh0.25s2500',arr=kernelmat)"
   ]
  },
  {
   "cell_type": "code",
   "execution_count": 17,
   "metadata": {
    "collapsed": false
   },
   "outputs": [
    {
     "data": {
      "text/plain": [
       "[<matplotlib.lines.Line2D at 0x108776908>]"
      ]
     },
     "execution_count": 17,
     "metadata": {},
     "output_type": "execute_result"
    },
    {
     "data": {
      "image/png": "[encoded data removed]",
      "text/plain": [
       "<matplotlib.figure.Figure at 0x108423da0>"
      ]
     },
     "metadata": {},
     "output_type": "display_data"
    }
   ],
   "source": [
    "plt.plot(du)"
   ]
  },
  {
   "cell_type": "code",
   "execution_count": null,
   "metadata": {
    "collapsed": true
   },
   "outputs": [],
   "source": []
  }
 ],
 "metadata": {
  "anaconda-cloud": {},
  "kernelspec": {
   "display_name": "Python [default]",
   "language": "python",
   "name": "python3"
  },
  "language_info": {
   "codemirror_mode": {
    "name": "ipython",
    "version": 3
   },
   "file_extension": ".py",
   "mimetype": "text/x-python",
   "name": "python",
   "nbconvert_exporter": "python",
   "pygments_lexer": "ipython3",
   "version": "3.5.4"
  }
 },
 "nbformat": 4,
 "nbformat_minor": 2
}
