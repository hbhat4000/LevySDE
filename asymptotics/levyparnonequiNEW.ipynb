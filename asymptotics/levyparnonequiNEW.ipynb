{
 "cells": [
  {
   "cell_type": "code",
   "execution_count": 1,
   "metadata": {},
   "outputs": [],
   "source": [
    "import numpy as np\n",
    "import scipy.special as sspec\n",
    "import scipy.stats as ss\n",
    "import scipy.sparse as sspar\n",
    "import scipy.linalg as sl\n",
    "import multiprocessing as mp\n",
    "import time\n",
    "\n",
    "%matplotlib inline \n",
    "import matplotlib.pyplot as plt"
   ]
  },
  {
   "cell_type": "code",
   "execution_count": 2,
   "metadata": {},
   "outputs": [],
   "source": [
    "def drift(x):\n",
    "    out = -x**3 + 4*x\n",
    "    return out\n",
    "\n",
    "g = 0.1"
   ]
  },
  {
   "cell_type": "code",
   "execution_count": 3,
   "metadata": {},
   "outputs": [],
   "source": [
    "alpha = 1.0\n",
    "def f(x,s,h):\n",
    "    return np.exp(1j*s*h*drift(x) - h*(np.abs(s)*g)**alpha) "
   ]
  },
  {
   "cell_type": "code",
   "execution_count": 4,
   "metadata": {},
   "outputs": [
    {
     "name": "stdout",
     "output_type": "stream",
     "text": [
      "[0.         1.78281108 3.53383801]\n",
      "[98.96336707 98.98184828 99.        ]\n"
     ]
    },
    {
     "data": {
      "image/png": "[encoded data removed]",
      "text/plain": [
       "<matplotlib.figure.Figure at 0x10a86c518>"
      ]
     },
     "metadata": {},
     "output_type": "display_data"
    },
    {
     "name": "stdout",
     "output_type": "stream",
     "text": [
      "0.018151721718183467\n"
     ]
    },
    {
     "data": {
      "image/png": "[encoded data removed]",
      "text/plain": [
       "<matplotlib.figure.Figure at 0x106b1e780>"
      ]
     },
     "metadata": {},
     "output_type": "display_data"
    },
    {
     "name": "stdout",
     "output_type": "stream",
     "text": [
      "[-99.         -97.21718892 -95.46616199]\n",
      "[-0.03663293 -0.01815172  0.        ]\n",
      "257\n"
     ]
    }
   ],
   "source": [
    "# set up nonequispaced grids of s and u values\n",
    "# uvec will have length sres//2+1, which is to implement nonequispaced quadrature later\n",
    "smax = 100\n",
    "sres = 512\n",
    "uvec = smax*(1.0-np.exp(-np.linspace(0,np.log(smax),sres//2 + 1)))\n",
    "print(uvec[0:3])\n",
    "print(uvec[(sres//2-2):])\n",
    "uvec = uvec - np.max(uvec)\n",
    "plt.plot(uvec)\n",
    "plt.show()\n",
    "print(np.min(np.diff(uvec)))\n",
    "plt.plot(np.diff(uvec))\n",
    "plt.show()\n",
    "print(uvec[0:3])\n",
    "print(uvec[(sres//2-2):])\n",
    "svec = np.copy(uvec)\n",
    "ures = len(uvec)\n",
    "sres = len(svec)\n",
    "print(sres)"
   ]
  },
  {
   "cell_type": "code",
   "execution_count": 15,
   "metadata": {
    "collapsed": true
   },
   "outputs": [],
   "source": [
    "# set the value of h\n",
    "thish = 0.25\n",
    "\n",
    "# set the initial condition parameters\n",
    "mymean = 0\n",
    "mysd = 0.5\n",
    "\n",
    "# set the initial pdf\n",
    "def initp(x):\n",
    "    return ss.norm.pdf(x,loc=mymean,scale=mysd)\n",
    "\n",
    "# set the initial charfun\n",
    "def initpcf(s):\n",
    "    return np.exp(1j*mymean*s - 0.5*(mysd*s)**2)"
   ]
  },
  {
   "cell_type": "code",
   "execution_count": 16,
   "metadata": {
    "collapsed": true
   },
   "outputs": [],
   "source": [
    "# set up x grid for integration\n",
    "Nx = 1024\n",
    "L = 8\n",
    "dx = L/Nx\n",
    "xvec = np.arange(-L/2,L/2,dx)"
   ]
  },
  {
   "cell_type": "code",
   "execution_count": 17,
   "metadata": {},
   "outputs": [
    {
     "data": {
      "text/plain": [
       "0.0"
      ]
     },
     "execution_count": 17,
     "metadata": {},
     "output_type": "execute_result"
    }
   ],
   "source": [
    "# initialize kernel matrix\n",
    "# kernelmat = np.zeros((sres,sres),dtype='D')\n",
    "\n",
    "svec[sres-1]"
   ]
  },
  {
   "cell_type": "code",
   "execution_count": 18,
   "metadata": {
    "collapsed": true
   },
   "outputs": [],
   "source": [
    "def computeonerow(i):\n",
    "    \n",
    "    outrow = np.zeros(ures,dtype='D')\n",
    "    s = svec[i]\n",
    "    \n",
    "    # handle special Dirac delta case\n",
    "    if i==(sres-1):\n",
    "        return sspar.csr_matrix(outrow)\n",
    "    \n",
    "    # handle \"boundary layer\" near Dirac delta\n",
    "    # if np.abs(svec[i])<1.0:\n",
    "    #     outrow[sres//2] = 1.0/ds\n",
    "    #     outrow[(sres//2 + 1)] = s*0.5/(ds*ds)\n",
    "    #     outrow[(sres//2 - 1)] = -s*0.5/(ds*ds)\n",
    "    #     return outrow\n",
    "    \n",
    "    # compute shifted coordinate\n",
    "    k = s - uvec\n",
    "        \n",
    "    # compute integral for all values of u\n",
    "    for j in range(Nx):\n",
    "        \n",
    "        # compute quadrature points\n",
    "        x1 = xvec[j]\n",
    "        x2 = x1 + dx\n",
    "        \n",
    "        # product quadrature rule\n",
    "        m0 = np.divide((np.exp(1j*k*x2) - np.exp(1j*k*x1)), 1j*k, \n",
    "                       out=dx*np.ones_like(k,dtype='D'), where=k!=0)\n",
    "        m1 = np.divide((x2*np.exp(1j*k*x2) - x1*np.exp(1j*k*x1)), 1j*k, \n",
    "                       out=0.5*(x2**2 - x1**2)*np.ones_like(k,dtype='D'), where=k!=0)\n",
    "        m1 += np.divide((np.exp(1j*k*x2) - np.exp(1j*k*x1)), k**2, \n",
    "                        out=np.zeros_like(k,dtype='D'), where=k!=0)\n",
    "        \n",
    "        # compute quadrature weights\n",
    "        w1 = -(m1 - x2*m0)/dx\n",
    "        w2 = (m1 - x1*m0)/dx\n",
    "        \n",
    "        # compute integral over [x1, x2]\n",
    "        outrow += w1*f(x1,s,thish) + w2*f(x2,s,thish)\n",
    "    \n",
    "    outrow /= (2.0*np.pi)\n",
    "    \n",
    "    # add asymptotic corrections\n",
    "    # prefac = np.exp(-thish*(np.abs(s)**alpha)*(g**alpha))\n",
    "    # outrow -= prefac*np.sinc((L/(2.0*np.pi))*k)\n",
    "    \n",
    "    outrow[np.abs(outrow)<=1.0e-8] = 0\n",
    "    \n",
    "    return sspar.csr_matrix(outrow)\n"
   ]
  },
  {
   "cell_type": "code",
   "execution_count": 19,
   "metadata": {},
   "outputs": [
    {
     "name": "stdout",
     "output_type": "stream",
     "text": [
      "(257, 257)\n",
      "8.251176118850708\n"
     ]
    }
   ],
   "source": [
    "curtime = time.time()\n",
    "pool = mp.Pool(processes=24)\n",
    "kernelmat = sspar.vstack(pool.map(computeonerow, range(sres)))\n",
    "# leftkernelmat, rightkernelmat = map(sspar.vstack, list(zip(*kernelmat)))\n",
    "\n",
    "# templist = [list(x) for x in zip(*kernelmat)]\n",
    "# leftkernelmat = sspar.vstack(templist[0])\n",
    "# rightkernelmat = sspar.vstack(templist[1])\n",
    "\n",
    "print(kernelmat.shape)\n",
    "timetaken = time.time() - curtime\n",
    "print(timetaken)\n",
    "pool.close()\n",
    "\n",
    "# bigeig, _ = ssla.eigs(kernelmat,k=1,which='LM')\n",
    "# print(np.abs(bigeig[0]*ds))\n",
    "# bigeig, _ = ssla.eigs(kernelmat-kernelmat[sres//2,],k=1,which='LM')\n",
    "# print(np.abs(bigeig[0]*ds))\n"
   ]
  },
  {
   "cell_type": "code",
   "execution_count": 20,
   "metadata": {},
   "outputs": [
    {
     "data": {
      "text/plain": [
       "[<matplotlib.lines.Line2D at 0x7f3ca9d8e240>]"
      ]
     },
     "execution_count": 20,
     "metadata": {},
     "output_type": "execute_result"
    },
    {
     "data": {
      "image/png": "[encoded data removed]",
      "text/plain": [
       "<Figure size 432x288 with 1 Axes>"
      ]
     },
     "metadata": {},
     "output_type": "display_data"
    }
   ],
   "source": [
    "# svec = svec[:-1]\n",
    "plt.plot(svec, np.abs(initpcf(svec)))"
   ]
  },
  {
   "cell_type": "code",
   "execution_count": 21,
   "metadata": {},
   "outputs": [
    {
     "name": "stdout",
     "output_type": "stream",
     "text": [
      "257\n",
      "257 257\n",
      "(257, 257)\n",
      "(257, 257)\n",
      "(257, 256)\n"
     ]
    }
   ],
   "source": [
    "# testmat = np.random.random((3,3))\n",
    "# print(testmat)\n",
    "\n",
    "# leave out the first column\n",
    "# print(testmat[:,1:])\n",
    "\n",
    "# leave out the last column\n",
    "# print(testmat[:,:-1])\n",
    "\n",
    "# cf = initpcf(svec)\n",
    "# print(len(cf))\n",
    "# print(sres)\n",
    "# cf[(sres-1)//2]\n",
    "\n",
    "du = np.hstack([np.zeros(1), np.diff(uvec)])\n",
    "cf = initpcf(svec)\n",
    "\n",
    "print(len(svec))\n",
    "print(len(du), len(cf))\n",
    "print(kernelmat.shape)\n",
    "kernelmatdense = kernelmat.todense()\n",
    "print(kernelmatdense.shape)\n",
    "kernelmatsnip = sspar.csr_matrix(kernelmatdense[:,:-1],dtype='D')\n",
    "print(kernelmatsnip.shape)"
   ]
  },
  {
   "cell_type": "code",
   "execution_count": 22,
   "metadata": {},
   "outputs": [
    {
     "name": "stdout",
     "output_type": "stream",
     "text": [
      "1.87561116615\n",
      "1.0\n",
      "2.03164904131\n",
      "1.0\n",
      "2.01639789677\n",
      "1.0\n",
      "1.99300589166\n",
      "1.0\n",
      "1.96732808386\n",
      "1.0\n",
      "1.93957926176\n",
      "1.0\n",
      "1.90775076089\n",
      "1.0\n",
      "1.96704474103\n",
      "1.0\n",
      "1.97823163196\n",
      "1.0\n",
      "1.97802130104\n",
      "1.0\n",
      "1.97430515359\n",
      "1.0\n",
      "1.98923682099\n",
      "1.0\n",
      "1.98329234119\n",
      "1.0\n",
      "1.97369921353\n",
      "1.0\n",
      "1.95845261156\n",
      "1.0\n"
     ]
    },
    {
     "data": {
      "text/plain": [
       "[<matplotlib.lines.Line2D at 0x7f3ca9dc87b8>]"
      ]
     },
     "execution_count": 22,
     "metadata": {},
     "output_type": "execute_result"
    },
    {
     "data": {
      "image/png": "[encoded data removed]",
      "text/plain": [
       "<Figure size 432x288 with 1 Axes>"
      ]
     },
     "metadata": {},
     "output_type": "display_data"
    }
   ],
   "source": [
    "du = np.hstack([np.zeros(1), np.diff(uvec)])\n",
    "cf = initpcf(svec)\n",
    "numsteps = 15\n",
    "for i in range(numsteps):\n",
    "    newcf = kernelmatsnip.dot(cf[1:]*du[1:])\n",
    "    prefac = np.exp(-thish*(np.abs(svec)**alpha)*(g**alpha))\n",
    "    newcf += prefac*cf\n",
    "    print(np.max(np.abs(newcf)))\n",
    "    newcf[np.abs(newcf) > 1] /= newcf[np.abs(newcf) > 1]\n",
    "    print(np.max(np.abs(newcf)))\n",
    "    cf = newcf\n",
    "\n",
    "plt.plot(svec,np.real(newcf))"
   ]
  },
  {
   "cell_type": "code",
   "execution_count": null,
   "metadata": {},
   "outputs": [],
   "source": []
  },
  {
   "cell_type": "code",
   "execution_count": 161,
   "metadata": {},
   "outputs": [
    {
     "data": {
      "text/plain": [
       "[<matplotlib.lines.Line2D at 0x7f4ff7f7ad30>]"
      ]
     },
     "execution_count": 161,
     "metadata": {},
     "output_type": "execute_result"
    },
    {
     "data": {
      "image/png": "[encoded data removed]",
      "text/plain": [
       "<Figure size 432x288 with 1 Axes>"
      ]
     },
     "metadata": {},
     "output_type": "display_data"
    }
   ],
   "source": [
    "# set up x grid for plotting\n",
    "Nxplot = 16384\n",
    "Lplot = 12.8\n",
    "dxplot = Lplot/Nxplot\n",
    "xplot = np.arange(-Lplot/2,Lplot/2,dxplot)\n",
    "\n",
    "# initial PDF\n",
    "plt.plot(xplot, initp(xplot))"
   ]
  },
  {
   "cell_type": "code",
   "execution_count": null,
   "metadata": {
    "collapsed": true
   },
   "outputs": [],
   "source": [
    "# Fourier matrix\n",
    "fouriermat = np.zeros((Nxplot,sres),dtype='D')\n",
    "for i in range(Nxplot):\n",
    "    fouriermat[i,] = np.exp(-1j*uvec*xplot[i])/(2.0*np.pi)\n"
   ]
  },
  {
   "cell_type": "code",
   "execution_count": null,
   "metadata": {},
   "outputs": [],
   "source": [
    "# PDF at next time step\n",
    "plt.plot(xplot, np.real(dxplot*np.dot(fouriermat,cf)))"
   ]
  },
  {
   "cell_type": "code",
   "execution_count": null,
   "metadata": {
    "collapsed": true
   },
   "outputs": [],
   "source": [
    "np.save(file='kernelmatNEh0.25s2500',arr=kernelmat)"
   ]
  },
  {
   "cell_type": "code",
   "execution_count": null,
   "metadata": {},
   "outputs": [],
   "source": [
    "plt.plot(du)"
   ]
  },
  {
   "cell_type": "code",
   "execution_count": null,
   "metadata": {
    "collapsed": true
   },
   "outputs": [],
   "source": []
  }
 ],
 "metadata": {
  "anaconda-cloud": {},
  "kernelspec": {
   "display_name": "Python 3",
   "language": "python",
   "name": "python3"
  },
  "language_info": {
   "codemirror_mode": {
    "name": "ipython",
    "version": 3
   },
   "file_extension": ".py",
   "mimetype": "text/x-python",
   "name": "python",
   "nbconvert_exporter": "python",
   "pygments_lexer": "ipython3",
   "version": "3.8.3"
  }
 },
 "nbformat": 4,
 "nbformat_minor": 2
}
