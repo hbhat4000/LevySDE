{
 "cells": [
  {
   "cell_type": "code",
   "execution_count": 1,
   "metadata": {},
   "outputs": [],
   "source": [
    "import numpy as np\n",
    "import scipy.special as sspec\n",
    "import scipy.stats as ss\n",
    "import scipy.linalg as sl\n",
    "# import multiprocessing as mp\n",
    "import time\n",
    "\n",
    "%matplotlib inline \n",
    "import matplotlib.pyplot as plt"
   ]
  },
  {
   "cell_type": "code",
   "execution_count": 2,
   "metadata": {},
   "outputs": [],
   "source": [
    "def drift(x):\n",
    "    # out = -x**3 + 4*x\n",
    "    out = 3*x - 2*x**2 - x**3\n",
    "    # out = np.sin(5*x)\n",
    "    return out\n",
    "\n",
    "g = 0.1"
   ]
  },
  {
   "cell_type": "code",
   "execution_count": 3,
   "metadata": {},
   "outputs": [],
   "source": [
    "# set up grids of s and u values\n",
    "smax = 100\n",
    "sres = 5000\n",
    "ds = 2*smax/sres\n",
    "svec = -smax + ds*np.arange(sres)\n",
    "uvec = np.copy(svec)\n",
    "\n",
    "# set up integrand\n",
    "alpha = 1.0\n",
    "beta = ds**2/5\n",
    "def f(x,s,h):\n",
    "    return np.sqrt(beta*np.pi)*np.exp(1j*s*h*drift(x) - h*(np.abs(s)*g)**alpha - beta*(x**2)/4) "
   ]
  },
  {
   "cell_type": "code",
   "execution_count": 4,
   "metadata": {},
   "outputs": [
    {
     "data": {
      "text/plain": [
       "0.04"
      ]
     },
     "execution_count": 4,
     "metadata": {},
     "output_type": "execute_result"
    }
   ],
   "source": [
    "ds"
   ]
  },
  {
   "cell_type": "code",
   "execution_count": 5,
   "metadata": {},
   "outputs": [],
   "source": [
    "# set the value of h\n",
    "thish = 0.01\n",
    "\n",
    "# set the initial condition parameters\n",
    "mymean = 0.0\n",
    "mysd = 0.1\n",
    "\n",
    "# set the initial pdf\n",
    "def initp(x):\n",
    "    return ss.norm.pdf(x,loc=mymean,scale=mysd)\n",
    "\n",
    "# set the initial charfun\n",
    "def initpcf(s):\n",
    "    return np.exp(1j*mymean*s - 0.5*(mysd*s)**2)"
   ]
  },
  {
   "cell_type": "code",
   "execution_count": 6,
   "metadata": {},
   "outputs": [],
   "source": [
    "# set up x grid for integration\n",
    "Nx = 1024\n",
    "L = 16\n",
    "dx = L/Nx\n",
    "xvec = np.arange(-L/2,L/2,dx)"
   ]
  },
  {
   "cell_type": "code",
   "execution_count": 7,
   "metadata": {},
   "outputs": [],
   "source": [
    "# initialize kernel matrix\n",
    "# kernelmat = np.zeros((sres,sres),dtype='D')"
   ]
  },
  {
   "cell_type": "code",
   "execution_count": 8,
   "metadata": {},
   "outputs": [],
   "source": [
    "def computeonerow(i):\n",
    "    \n",
    "    outrow = np.zeros(sres,dtype='D')\n",
    "    s = svec[i]\n",
    "    \n",
    "    # compute shifted coordinate\n",
    "    k = s - uvec\n",
    "        \n",
    "    # compute integral for all values of u\n",
    "    for j in range(Nx):\n",
    "        \n",
    "        # compute quadrature points\n",
    "        x1 = xvec[j]\n",
    "        x2 = x1 + dx\n",
    "        \n",
    "        # product quadrature rule\n",
    "        m0 = np.divide((np.exp(1j*k*x2) - np.exp(1j*k*x1)), 1j*k, \n",
    "                       out=dx*np.ones_like(k,dtype='D'), where=k!=0)\n",
    "        m1 = np.divide((x2*np.exp(1j*k*x2) - x1*np.exp(1j*k*x1)), 1j*k, \n",
    "                       out=0.5*(x2**2 - x1**2)*np.ones_like(k,dtype='D'), where=k!=0)\n",
    "        m1 += np.divide((np.exp(1j*k*x2) - np.exp(1j*k*x1)), k**2, \n",
    "                        out=np.zeros_like(k,dtype='D'), where=k!=0)\n",
    "        \n",
    "        # compute quadrature weights\n",
    "        w1 = -(m1 - x2*m0)/dx\n",
    "        w2 = (m1 - x1*m0)/dx\n",
    "        \n",
    "        # compute integral over [x1, x2]\n",
    "        outrow += w1*f(x1,s,thish) + w2*f(x2,s,thish)\n",
    "    \n",
    "    outrow /= (2.0*np.pi)\n",
    "    \n",
    "    # add asymptotic correction\n",
    "    asymp = -(k**2)/beta - thish*(np.abs(s*g)**alpha) - ((beta*L - 4j*k)/(4*np.sqrt(beta)))**2\n",
    "    asymp2 = np.log(sspec.wofz(1j*(beta*L - 4j*k)/(4*np.sqrt(beta))))\n",
    "    asymp3 = 2*np.sqrt(beta*np.pi)\n",
    "    totalasymp = 2.0*np.real(np.exp(asymp + asymp2))/asymp3\n",
    "    outrow += totalasymp\n",
    "    \n",
    "    return outrow\n"
   ]
  },
  {
   "cell_type": "code",
   "execution_count": 9,
   "metadata": {},
   "outputs": [],
   "source": [
    "# print(sspec.wofz(1j*(beta*L - 4j*(-uvec))/(4*np.sqrt(beta))))\n",
    "# print(np.exp( -uvec**2/beta ))\n",
    "# computeonerow(100)"
   ]
  },
  {
   "cell_type": "code",
   "execution_count": null,
   "metadata": {},
   "outputs": [],
   "source": [
    "curtime = time.time()\n",
    "# pool = mp.Pool(processes=24)\n",
    "# kernelmat = np.vstack(pool.map(computeonerow, range(sres)))\n",
    "kernelmat = np.vstack(list(map(computeonerow, range(sres))))\n",
    "timetaken = time.time() - curtime\n",
    "print(timetaken)\n",
    "# pool.close()\n"
   ]
  },
  {
   "cell_type": "code",
   "execution_count": 345,
   "metadata": {},
   "outputs": [
    {
     "name": "stdout",
     "output_type": "stream",
     "text": [
      "90.61098160095302\n"
     ]
    }
   ],
   "source": [
    "print(sl.norm(kernelmat,np.inf))"
   ]
  },
  {
   "cell_type": "code",
   "execution_count": 346,
   "metadata": {},
   "outputs": [
    {
     "data": {
      "text/plain": [
       "[<matplotlib.lines.Line2D at 0x7f5cd69d9908>]"
      ]
     },
     "execution_count": 346,
     "metadata": {},
     "output_type": "execute_result"
    },
    {
     "data": {
      "image/png": "[encoded data removed]",
      "text/plain": [
       "<Figure size 432x288 with 1 Axes>"
      ]
     },
     "metadata": {},
     "output_type": "display_data"
    }
   ],
   "source": [
    "plt.plot(svec, np.abs(initpcf(svec)))"
   ]
  },
  {
   "cell_type": "code",
   "execution_count": 347,
   "metadata": {},
   "outputs": [],
   "source": [
    "#xtest = np.array([-2, -1, 0, 1, 2])*ds\n",
    "#colloc = np.zeros((5,5))\n",
    "#for i in range(5):\n",
    "#    for j in range(5):\n",
    "#        colloc[i,j] = np.exp(-(xtest[i] - xtest[j])**2/beta)\n",
    "        \n",
    "smat,umat = np.meshgrid(svec,uvec)\n",
    "colloc = np.exp(-(smat - umat)**2/beta)"
   ]
  },
  {
   "cell_type": "code",
   "execution_count": 348,
   "metadata": {},
   "outputs": [
    {
     "name": "stdout",
     "output_type": "stream",
     "text": [
      "31.539156517 1.0 (1+0j)\n",
      "31.539156517 1.0 (1+0j)\n",
      "31.539156517 1.0 (1+0j)\n",
      "31.539156517 1.0 (1+0j)\n",
      "31.539156517 1.0 (1+0j)\n",
      "31.539156517 1.0 (1+0j)\n",
      "31.539156517 1.0 (1+0j)\n",
      "31.539156517 1.0 (1+0j)\n",
      "31.539156517 1.0 (1+0j)\n",
      "31.539156517 1.0 (1+0j)\n",
      "31.539156517 1.0 (1+0j)\n",
      "31.539156517 1.0 (1+0j)\n",
      "31.5391565171 1.0 (1+0j)\n",
      "31.5391565171 1.0 (1+0j)\n",
      "31.5391565171 1.0 (1+0j)\n",
      "31.5391565171 1.0 (1+0j)\n",
      "31.5391565171 1.0 (1+0j)\n",
      "31.5391565171 1.0 (1+0j)\n",
      "31.5391565171 1.0 (1+0j)\n",
      "31.5391565171 1.0 (1+0j)\n",
      "31.5391565171 1.0 (1+0j)\n",
      "31.5391565171 1.0 (1+0j)\n",
      "31.5391565171 1.0 (1+0j)\n",
      "31.5391565171 1.0 (1+0j)\n",
      "31.5391565171 1.0 (1+0j)\n",
      "31.5391565171 1.0 (1+0j)\n",
      "31.5391565171 1.0 (1+0j)\n",
      "31.5391565171 1.0 (1+0j)\n",
      "31.5391565171 1.0 (1+0j)\n",
      "31.5391565171 1.0 (1+0j)\n",
      "31.5391565171 1.0 (1+0j)\n",
      "31.5391565171 1.0 (1+0j)\n",
      "31.5391565172 1.0 (1+0j)\n",
      "31.5391565172 1.0 (1+0j)\n",
      "31.5391565172 1.0 (1+0j)\n",
      "31.5391565172 1.0 (1+0j)\n",
      "31.5391565172 1.0 (1+0j)\n",
      "31.5391565172 1.0 (1+0j)\n",
      "31.5391565172 1.0 (1+0j)\n",
      "31.5391565172 1.0 (1+0j)\n",
      "31.5391565172 1.0 (1+0j)\n",
      "31.5391565172 1.0 (1+0j)\n",
      "31.5391565172 1.0 (1+0j)\n",
      "31.5391565172 1.0 (1+0j)\n",
      "31.5391565172 1.0 (1+0j)\n",
      "31.5391565172 1.0 (1+0j)\n",
      "31.5391565172 1.0 (1+0j)\n",
      "31.5391565172 1.0 (1+0j)\n",
      "31.5391565172 1.0 (1+0j)\n",
      "31.5391565172 1.0 (1+0j)\n",
      "31.5391565172 1.0 (1+0j)\n",
      "31.5391565172 1.0 (1+0j)\n",
      "31.5391565172 1.0 (1+0j)\n",
      "31.5391565172 1.0 (1+0j)\n",
      "31.5391565172 1.0 (1+0j)\n",
      "31.5391565172 1.0 (1+0j)\n",
      "31.5391565172 1.0 (1+0j)\n",
      "31.5391565172 1.0 (1+0j)\n",
      "31.5391565172 1.0 (1+0j)\n",
      "31.5391565172 1.0 (1+0j)\n",
      "31.5391565173 1.0 (1+0j)\n",
      "31.5391565173 1.0 (1+0j)\n",
      "31.5391565173 1.0 (1+0j)\n",
      "31.5391565173 1.0 (1+0j)\n",
      "31.5391565173 1.0 (1+0j)\n",
      "31.5391565173 1.0 (1+0j)\n",
      "31.5391565173 1.0 (1+0j)\n",
      "31.5391565173 1.0 (1+0j)\n",
      "31.5391565173 1.0 (1+0j)\n",
      "31.5391565173 1.0 (1+0j)\n",
      "31.5391565173 1.0 (1+0j)\n",
      "31.5391565173 1.0 (1+0j)\n",
      "31.5391565173 1.0 (1+0j)\n",
      "31.5391565173 1.0 (1+0j)\n",
      "31.5391565173 1.0 (1+0j)\n",
      "31.5391565173 1.0 (1+0j)\n",
      "31.5391565173 1.0 (1+0j)\n",
      "31.5391565173 1.0 (1+0j)\n",
      "31.5391565173 1.0 (1+0j)\n",
      "31.5391565173 1.0 (1+0j)\n",
      "31.5391565173 1.0 (1+0j)\n",
      "31.5391565173 1.0 (1+0j)\n",
      "31.5391565173 1.0 (1+0j)\n",
      "31.5391565173 1.0 (1+0j)\n",
      "31.5391565173 1.0 (1+0j)\n",
      "31.5391565173 1.0 (1+0j)\n",
      "31.5391565173 1.0 (1+0j)\n",
      "31.5391565173 1.0 (1+0j)\n",
      "31.5391565173 1.0 (1+0j)\n",
      "31.5391565173 1.0 (1+0j)\n",
      "31.5391565173 1.0 (1+0j)\n",
      "31.5391565173 1.0 (1+0j)\n",
      "31.5391565173 1.0 (1+0j)\n",
      "31.5391565173 1.0 (1+0j)\n",
      "31.5391565173 1.0 (1+0j)\n",
      "31.5391565173 1.0 (1+0j)\n",
      "31.5391565173 1.0 (1+0j)\n",
      "31.5391565173 1.0 (1+0j)\n",
      "31.5391565173 1.0 (1+0j)\n",
      "31.5391565173 1.0 (1+0j)\n"
     ]
    },
    {
     "data": {
      "text/plain": [
       "[<matplotlib.lines.Line2D at 0x7f5cd691ac50>]"
      ]
     },
     "execution_count": 348,
     "metadata": {},
     "output_type": "execute_result"
    },
    {
     "data": {
      "image/png": "[encoded data removed]",
      "text/plain": [
       "<Figure size 432x288 with 1 Axes>"
      ]
     },
     "metadata": {},
     "output_type": "display_data"
    }
   ],
   "source": [
    "# cf = initpcf(svec)\n",
    "coef = np.zeros(sres)\n",
    "coef[sres//2] = 1\n",
    "numsteps = 100\n",
    "for i in range(numsteps):\n",
    "    cf = np.dot(kernelmat,coef)\n",
    "\n",
    "    # enforce property that psi(0) = 1 and |psi(s)| <= 1 always\n",
    "    oldmax = np.abs(cf[sres//2])\n",
    "    if np.max(cf) >= 1:\n",
    "        cf /= cf[sres//2]\n",
    "    print(oldmax, np.max(np.abs(cf)), cf[sres//2])\n",
    "    \n",
    "    # enforce Hermitian property\n",
    "    cfreal = np.real(cf)\n",
    "    cfimag = 0.5*(np.imag(cf) - np.flip(np.imag(cf),0))\n",
    "    cf = cfreal + 1j*cfimag\n",
    "    \n",
    "    # compute collocation coefficients\n",
    "    coef = sl.solve(colloc, cf)\n",
    "    \n",
    "plt.plot(svec, np.abs(cf))"
   ]
  },
  {
   "cell_type": "code",
   "execution_count": 349,
   "metadata": {},
   "outputs": [
    {
     "data": {
      "text/plain": [
       "[<matplotlib.lines.Line2D at 0x7f5cd699a4e0>]"
      ]
     },
     "execution_count": 349,
     "metadata": {},
     "output_type": "execute_result"
    },
    {
     "data": {
      "image/png": "[encoded data removed]",
      "text/plain": [
       "<Figure size 432x288 with 1 Axes>"
      ]
     },
     "metadata": {},
     "output_type": "display_data"
    }
   ],
   "source": [
    "# set up x grid for plotting\n",
    "Lplot = 16\n",
    "dxplot = 1/(sres*ds)\n",
    "xplot = np.arange(-Lplot/2,Lplot/2,dxplot)\n",
    "Nxplot = xplot.shape[0]\n",
    "\n",
    "# initial PDF\n",
    "plt.plot(xplot, initp(xplot))"
   ]
  },
  {
   "cell_type": "code",
   "execution_count": 350,
   "metadata": {
    "collapsed": true
   },
   "outputs": [],
   "source": [
    "# Fourier matrix\n",
    "fouriermat = np.zeros((Nxplot,sres),dtype='D')\n",
    "for i in range(Nxplot):\n",
    "    fouriermat[i,] = np.exp(-1j*uvec*xplot[i])/(2.0*np.pi)\n"
   ]
  },
  {
   "cell_type": "code",
   "execution_count": 351,
   "metadata": {},
   "outputs": [
    {
     "data": {
      "text/plain": [
       "[<matplotlib.lines.Line2D at 0x7f5cd69599e8>]"
      ]
     },
     "execution_count": 351,
     "metadata": {},
     "output_type": "execute_result"
    },
    {
     "data": {
      "image/png": "[encoded data removed]",
      "text/plain": [
       "<Figure size 432x288 with 1 Axes>"
      ]
     },
     "metadata": {},
     "output_type": "display_data"
    }
   ],
   "source": [
    "# PDF at next time step\n",
    "plt.plot(xplot, np.real(dxplot*np.dot(fouriermat,cf)))\n",
    "# plt.axvline(x=-np.pi/5,color='m')\n",
    "# plt.axvline(x=np.pi/5,color='m')"
   ]
  },
  {
   "cell_type": "code",
   "execution_count": 352,
   "metadata": {},
   "outputs": [
    {
     "data": {
      "text/plain": [
       "[<matplotlib.lines.Line2D at 0x7f5cd68d3828>]"
      ]
     },
     "execution_count": 352,
     "metadata": {},
     "output_type": "execute_result"
    },
    {
     "data": {
      "image/png": "[encoded data removed]",
      "text/plain": [
       "<Figure size 432x288 with 1 Axes>"
      ]
     },
     "metadata": {},
     "output_type": "display_data"
    }
   ],
   "source": [
    "plt.plot(svec,np.imag(cf),color='r')"
   ]
  },
  {
   "cell_type": "code",
   "execution_count": null,
   "metadata": {
    "collapsed": true
   },
   "outputs": [],
   "source": []
  }
 ],
 "metadata": {
  "anaconda-cloud": {},
  "kernelspec": {
   "display_name": "Python 3",
   "language": "python",
   "name": "python3"
  },
  "language_info": {
   "codemirror_mode": {
    "name": "ipython",
    "version": 3
   },
   "file_extension": ".py",
   "mimetype": "text/x-python",
   "name": "python",
   "nbconvert_exporter": "python",
   "pygments_lexer": "ipython3",
   "version": "3.6.12"
  }
 },
 "nbformat": 4,
 "nbformat_minor": 2
}
