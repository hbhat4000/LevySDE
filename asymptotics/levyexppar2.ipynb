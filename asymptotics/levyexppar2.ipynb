{
 "cells": [
  {
   "cell_type": "code",
   "execution_count": 1,
   "metadata": {
    "collapsed": true
   },
   "outputs": [],
   "source": [
    "import numpy as np\n",
    "import scipy.special as sspec\n",
    "import scipy.stats as ss\n",
    "import multiprocessing as mp\n",
    "import time\n",
    "\n",
    "%matplotlib inline \n",
    "import matplotlib.pyplot as plt"
   ]
  },
  {
   "cell_type": "code",
   "execution_count": 2,
   "metadata": {
    "collapsed": true
   },
   "outputs": [],
   "source": [
    "def drift(x):\n",
    "    if(np.abs(x)<6):\n",
    "        return (3/2 + x)*(7/2 - x)*(7/2 + x)*(3/2 - x)*16/12825\n",
    "    else:\n",
    "        return 1.0\n",
    "\n",
    "def diff(x):\n",
    "    return (1.0 + np.exp(-x**2))"
   ]
  },
  {
   "cell_type": "code",
   "execution_count": 3,
   "metadata": {
    "collapsed": false
   },
   "outputs": [],
   "source": [
    "def f(x,s,h):\n",
    "    return np.exp(1j*s*h*drift(x) - h*np.abs(s)*diff(x)) "
   ]
  },
  {
   "cell_type": "code",
   "execution_count": 4,
   "metadata": {
    "collapsed": false
   },
   "outputs": [],
   "source": [
    "# set up grids of s and u values\n",
    "smin = -100\n",
    "smax = 100\n",
    "sres = 10000\n",
    "ds = (smax-smin)/sres\n",
    "svec = smin + ds*np.arange(sres)\n",
    "uvec = np.copy(svec)"
   ]
  },
  {
   "cell_type": "code",
   "execution_count": 5,
   "metadata": {
    "collapsed": false
   },
   "outputs": [],
   "source": [
    "# set the value of h\n",
    "thish = 0.01\n",
    "\n",
    "# set the initial condition parameters\n",
    "mymean = 0.5\n",
    "mysd = 0.05\n",
    "\n",
    "# set the initial pdf\n",
    "def initp(x):\n",
    "    return ss.norm.pdf(x,loc=mymean,scale=mysd)\n",
    "\n",
    "# set the initial charfun\n",
    "def initpcf(s):\n",
    "    return np.exp(1j*mymean*s - 0.5*(mysd*s)**2)"
   ]
  },
  {
   "cell_type": "code",
   "execution_count": 6,
   "metadata": {
    "collapsed": false
   },
   "outputs": [],
   "source": [
    "# set up x grid for integration\n",
    "Nx = 128\n",
    "L = 12.8\n",
    "dx = L/Nx\n",
    "xvec = np.arange(-L/2,L/2,dx)"
   ]
  },
  {
   "cell_type": "code",
   "execution_count": 7,
   "metadata": {
    "collapsed": true
   },
   "outputs": [],
   "source": [
    "# initialize kernel matrix\n",
    "# kernelmat = np.zeros((sres,sres),dtype='D')"
   ]
  },
  {
   "cell_type": "code",
   "execution_count": 8,
   "metadata": {
    "collapsed": false
   },
   "outputs": [],
   "source": [
    "def computeonerow(i):\n",
    "    \n",
    "    outrow = np.zeros(sres,dtype='D')\n",
    "    s = svec[i]\n",
    "    \n",
    "    # handle special Dirac delta case\n",
    "    if i==(sres//2):\n",
    "        outrow = -np.sinc((-uvec)*L/(2.0*np.pi))*L/(2.0*np.pi)\n",
    "        outrow[i] += 2.0/ds\n",
    "        return outrow\n",
    "    \n",
    "    # handle \"boundary layer\" near Dirac delta\n",
    "    # if np.abs(svec[i])<1.0:\n",
    "    #     outrow[sres//2] = 1.0/ds\n",
    "    #     outrow[(sres//2 + 1)] = s*0.5/(ds*ds)\n",
    "    #     outrow[(sres//2 - 1)] = -s*0.5/(ds*ds)\n",
    "    #     return outrow\n",
    "    \n",
    "    # compute shifted coordinate\n",
    "    k = s - uvec\n",
    "        \n",
    "    # compute integral for all values of u\n",
    "    for j in range(Nx):\n",
    "        \n",
    "        # compute quadrature points\n",
    "        x1 = xvec[j]\n",
    "        x2 = x1 + dx\n",
    "        \n",
    "        # product quadrature rule\n",
    "        m0 = np.divide((np.exp(1j*k*x2) - np.exp(1j*k*x1)), 1j*k, \n",
    "                       out=dx*np.ones_like(k,dtype='D'), where=k!=0)\n",
    "        m1 = np.divide((x2*np.exp(1j*k*x2) - x1*np.exp(1j*k*x1)), 1j*k, \n",
    "                       out=0.5*(x2**2 - x1**2)*np.ones_like(k,dtype='D'), where=k!=0)\n",
    "        m1 += np.divide((np.exp(1j*k*x2) - np.exp(1j*k*x1)), k**2, \n",
    "                        out=np.zeros_like(k,dtype='D'), where=k!=0)\n",
    "        \n",
    "        # compute quadrature weights\n",
    "        w1 = -(m1 - x2*m0)/dx\n",
    "        w2 = (m1 - x1*m0)/dx\n",
    "        \n",
    "        # compute integral over [x1, x2]\n",
    "        outrow += w1*f(x1,s,thish) + w2*f(x2,s,thish)\n",
    "\n",
    "    # include factor of 2*pi in integral before asymptotic correction\n",
    "    outrow /= (2.0*np.pi)\n",
    "\n",
    "    # add asymptotic correction\n",
    "    outrow += -np.exp(-thish*np.abs(s) + 1j*s*thish)*np.sinc(k*L/(2.0*np.pi))*L/(2.0*np.pi)\n",
    "    outrow[i] += np.exp(-thish*np.abs(s) + 1j*s*thish)/ds\n",
    "    \n",
    "    return outrow\n"
   ]
  },
  {
   "cell_type": "code",
   "execution_count": 9,
   "metadata": {
    "collapsed": false
   },
   "outputs": [
    {
     "name": "stderr",
     "output_type": "stream",
     "text": [
      "/data/anaconda3/lib/python3.5/site-packages/ipykernel/__main__.py:9: RuntimeWarning: divide by zero encountered in double_scalars\n"
     ]
    },
    {
     "name": "stdout",
     "output_type": "stream",
     "text": [
      "924.0163526535034\n"
     ]
    }
   ],
   "source": [
    "curtime = time.time()\n",
    "pool = mp.Pool(processes=24)\n",
    "kernelmat = np.vstack(pool.map(computeonerow, range(sres)))\n",
    "timetaken = time.time() - curtime\n",
    "print(timetaken)\n",
    "pool.close()\n",
    "np.save(file='kernelmat2',arr=kernelmat)"
   ]
  },
  {
   "cell_type": "code",
   "execution_count": 10,
   "metadata": {
    "collapsed": true
   },
   "outputs": [],
   "source": [
    "# kernelmat = np.load('kernelmat2.npy')"
   ]
  },
  {
   "cell_type": "code",
   "execution_count": 11,
   "metadata": {
    "collapsed": false
   },
   "outputs": [
    {
     "data": {
      "text/plain": [
       "[<matplotlib.lines.Line2D at 0x7fbc1cd3d940>]"
      ]
     },
     "execution_count": 11,
     "metadata": {},
     "output_type": "execute_result"
    },
    {
     "data": {
      "image/png": "[encoded data removed]",
      "text/plain": [
       "<Figure size 432x288 with 1 Axes>"
      ]
     },
     "metadata": {},
     "output_type": "display_data"
    }
   ],
   "source": [
    "plt.plot(svec, np.abs(initpcf(svec)))"
   ]
  },
  {
   "cell_type": "code",
   "execution_count": 12,
   "metadata": {
    "collapsed": false
   },
   "outputs": [
    {
     "data": {
      "text/plain": [
       "[<matplotlib.lines.Line2D at 0x7fbc1cd9aa58>]"
      ]
     },
     "execution_count": 12,
     "metadata": {},
     "output_type": "execute_result"
    },
    {
     "data": {
      "image/png": "[encoded data removed]",
      "text/plain": [
       "<Figure size 432x288 with 1 Axes>"
      ]
     },
     "metadata": {},
     "output_type": "display_data"
    }
   ],
   "source": [
    "cf = (ds**2)*np.dot(kernelmat,np.dot(kernelmat, initpcf(svec)))\n",
    "plt.plot(svec, np.abs(cf))"
   ]
  },
  {
   "cell_type": "code",
   "execution_count": 13,
   "metadata": {
    "collapsed": false
   },
   "outputs": [
    {
     "data": {
      "text/plain": [
       "[<matplotlib.lines.Line2D at 0x7fbc1cd565c0>]"
      ]
     },
     "execution_count": 13,
     "metadata": {},
     "output_type": "execute_result"
    },
    {
     "data": {
      "image/png": "[encoded data removed]",
      "text/plain": [
       "<Figure size 432x288 with 1 Axes>"
      ]
     },
     "metadata": {},
     "output_type": "display_data"
    }
   ],
   "source": [
    "# set up x grid for plotting\n",
    "Nxplot = 16384\n",
    "Lplot = 12.8\n",
    "dxplot = Lplot/Nxplot\n",
    "xplot = np.arange(-Lplot/2,Lplot/2,dxplot)\n",
    "\n",
    "# initial PDF\n",
    "plt.plot(xplot, initp(xplot))"
   ]
  },
  {
   "cell_type": "code",
   "execution_count": 14,
   "metadata": {
    "collapsed": false
   },
   "outputs": [],
   "source": [
    "# Fourier matrix\n",
    "fouriermat = np.zeros((Nxplot,sres),dtype='D')\n",
    "for i in range(Nxplot):\n",
    "    fouriermat[i,] = np.exp(-1j*uvec*xplot[i])/(2.0*np.pi)\n"
   ]
  },
  {
   "cell_type": "code",
   "execution_count": 15,
   "metadata": {
    "collapsed": false
   },
   "outputs": [
    {
     "data": {
      "text/plain": [
       "[<matplotlib.lines.Line2D at 0x7fbc1cc83898>]"
      ]
     },
     "execution_count": 15,
     "metadata": {},
     "output_type": "execute_result"
    },
    {
     "data": {
      "image/png": "[encoded data removed]",
      "text/plain": [
       "<Figure size 432x288 with 1 Axes>"
      ]
     },
     "metadata": {},
     "output_type": "display_data"
    }
   ],
   "source": [
    "# PDF at next time step\n",
    "plt.plot(xplot, np.real(dxplot*np.dot(fouriermat,cf)))"
   ]
  }
 ],
 "metadata": {
  "anaconda-cloud": {},
  "kernelspec": {
   "display_name": "Python [conda root]",
   "language": "python",
   "name": "conda-root-py"
  },
  "language_info": {
   "codemirror_mode": {
    "name": "ipython",
    "version": 3
   },
   "file_extension": ".py",
   "mimetype": "text/x-python",
   "name": "python",
   "nbconvert_exporter": "python",
   "pygments_lexer": "ipython3",
   "version": "3.5.4"
  }
 },
 "nbformat": 4,
 "nbformat_minor": 2
}
