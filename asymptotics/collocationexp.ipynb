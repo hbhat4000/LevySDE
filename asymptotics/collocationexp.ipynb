{
 "cells": [
  {
   "cell_type": "markdown",
   "metadata": {},
   "source": [
    "Suppose we have a function $f : \\mathbb{R} \\to \\mathbb{R}$.  This just means that $f$ takes a scalar input $x$ and maps it to some output $f(x)$.  The goal of this notebook is to explore two different ways to numerically approximate $f$ on a closed interval $[-L,L]$.  The basic idea is that it is *impossible* to store all values of $f(x)$ on this closed interval, because the number of points in $[-L,L]$ is uncountably infinite.  Hence we must approximate."
   ]
  },
  {
   "cell_type": "code",
   "execution_count": 1,
   "metadata": {},
   "outputs": [],
   "source": [
    "import numpy as np"
   ]
  },
  {
   "cell_type": "markdown",
   "metadata": {},
   "source": [
    "We begin with a simple approach.  Consider a grid of $2N+1$ points $\\{x_{-N}, \\ldots, x_0, \\ldots, x_N\\}$.  To keep things simple, let's take this grid to be equispaced and centered at $0$:\n",
    "\\begin{equation*}\n",
    "x_j = j (\\Delta x)\n",
    "\\end{equation*}\n",
    "where $\\Delta x = L/N$."
   ]
  },
  {
   "cell_type": "code",
   "execution_count": 222,
   "metadata": {},
   "outputs": [
    {
     "name": "stdout",
     "output_type": "stream",
     "text": [
      "[-1.  -0.8 -0.6 -0.4 -0.2  0.   0.2  0.4  0.6  0.8  1. ]\n"
     ]
    }
   ],
   "source": [
    "L = 1\n",
    "N = 5\n",
    "dx = L/N\n",
    "xgrid = np.arange(-N,N+1)*dx\n",
    "print(xgrid)"
   ]
  },
  {
   "cell_type": "markdown",
   "metadata": {},
   "source": [
    "Now we define a function.  For starters, let's take $f(x) = x^2$."
   ]
  },
  {
   "cell_type": "code",
   "execution_count": 223,
   "metadata": {},
   "outputs": [],
   "source": [
    "def f(x):\n",
    "    return x**2"
   ]
  },
  {
   "cell_type": "markdown",
   "metadata": {},
   "source": [
    "Now we evaluate the function on the grid, and we have our approximation!  We can plot it to make sure we've done things correctly."
   ]
  },
  {
   "cell_type": "code",
   "execution_count": 224,
   "metadata": {},
   "outputs": [],
   "source": [
    "fgrid = f(xgrid)"
   ]
  },
  {
   "cell_type": "code",
   "execution_count": 225,
   "metadata": {},
   "outputs": [],
   "source": [
    "import matplotlib\n",
    "%matplotlib inline\n",
    "import matplotlib.pyplot as plt"
   ]
  },
  {
   "cell_type": "code",
   "execution_count": 226,
   "metadata": {},
   "outputs": [
    {
     "data": {
      "image/png": "[encoded data removed]",
      "text/plain": [
       "<Figure size 432x288 with 1 Axes>"
      ]
     },
     "metadata": {
      "needs_background": "light"
     },
     "output_type": "display_data"
    }
   ],
   "source": [
    "plt.scatter(xgrid, fgrid)\n",
    "plt.show()"
   ]
  },
  {
   "cell_type": "markdown",
   "metadata": {},
   "source": [
    "In terms of mathematics, what we have done is evaluated the function on a grid, to produce\n",
    "\\begin{equation*}\n",
    "f_j = f(x_j).\n",
    "\\end{equation*}\n",
    "But are we done?  I have purposely used a scatter plot above to show that, in fact, we have not yet defined what happens *in between* the grid points.  If we want to do something like *use* our numerical approximation of $f(x)$ for the purposes of integration, then we *need* to know what happens in between grid points.\n",
    "\n",
    "Let $g$ denote our first numerical approximation of $f$.  One way forward is to assume that $g$ is piecewise constant.  Then we have\n",
    "\\begin{equation*}\n",
    "g(x) = f_{j^\\ast} \\text{ with } j^\\ast = \\operatorname{argmin}_j |x - x_j|\n",
    "\\end{equation*}"
   ]
  },
  {
   "cell_type": "code",
   "execution_count": 227,
   "metadata": {},
   "outputs": [],
   "source": [
    "def g(x):\n",
    "    jstar = np.argmin(np.abs(x - xgrid))\n",
    "    return fgrid[jstar]"
   ]
  },
  {
   "cell_type": "markdown",
   "metadata": {},
   "source": [
    "Let's suppose that the grid $\\{x_j\\}_{j=-N}^N$ is the grid of points at which the *true* values of $f(x)$ are available.  For the purposes of plotting, let us use a finer grid $\\{ \\xi_j \\}_{j=-N}^N$."
   ]
  },
  {
   "cell_type": "code",
   "execution_count": 228,
   "metadata": {},
   "outputs": [],
   "source": [
    "Nxi = 1000\n",
    "Lxi = -1\n",
    "dxi = Lxi/Nxi\n",
    "xigrid = np.arange(-Nxi,Nxi+1)*dxi\n",
    "ggrid = np.array(list(map(g, xigrid)))"
   ]
  },
  {
   "cell_type": "code",
   "execution_count": 229,
   "metadata": {},
   "outputs": [
    {
     "data": {
      "image/png": "[encoded data removed]",
      "text/plain": [
       "<Figure size 432x288 with 1 Axes>"
      ]
     },
     "metadata": {
      "needs_background": "light"
     },
     "output_type": "display_data"
    }
   ],
   "source": [
    "plt.scatter(xigrid, ggrid)\n",
    "plt.show()"
   ]
  },
  {
   "cell_type": "markdown",
   "metadata": {},
   "source": [
    "We can evaluate the mean-squared error of this approximation:"
   ]
  },
  {
   "cell_type": "code",
   "execution_count": 230,
   "metadata": {},
   "outputs": [
    {
     "name": "stdout",
     "output_type": "stream",
     "text": [
      "0.004448129268665666\n"
     ]
    }
   ],
   "source": [
    "gmse = np.mean( (ggrid - f(xigrid))**2 )\n",
    "print(gmse)"
   ]
  },
  {
   "cell_type": "markdown",
   "metadata": {},
   "source": [
    "Now as an alternative approach, let's consider collocation with Gaussian basis functions.  Let's consider a collection of $2N+1$ Gaussian probability density functions, one per grid point.  Let the $j$-th such Gaussian have mean $x_j$ and variance $\\sigma^2$:\n",
    "\\begin{equation*}\n",
    "G_j(x) = \\frac{1}{\\sqrt{2 \\pi \\sigma^2}} \\exp \\left[ - \\frac{ (x-x_j)^2 }{ 2 \\sigma^2 } \\right]\n",
    "\\end{equation*}"
   ]
  },
  {
   "cell_type": "markdown",
   "metadata": {},
   "source": [
    "Then the collocation approximation $h$ to the function $f$ is a linear combination of these basis functions:\n",
    "\\begin{equation*}\n",
    "h(x) = \\sum_{j=-N}^N \\alpha_j G_j(x)\n",
    "\\end{equation*}"
   ]
  },
  {
   "cell_type": "code",
   "execution_count": 231,
   "metadata": {},
   "outputs": [],
   "source": [
    "def h(x):\n",
    "    gout = 0.0\n",
    "    for j in range(2*N+1):\n",
    "        gout += alpha[j]*((2*np.pi*sigma**2)**(-0.5))*np.exp(-(x - xgrid[j])**2 / (2*sigma**2) )\n",
    "    \n",
    "    return gout"
   ]
  },
  {
   "cell_type": "markdown",
   "metadata": {},
   "source": [
    "How do we find the unknown coefficients $\\alpha_j$?  We require that\n",
    "\\begin{equation*}\n",
    "h(x_i) = f(x_i)\n",
    "\\end{equation*}\n",
    "for each $i = -N, \\ldots, N$.  Expanding this, we obtain\n",
    "\\begin{equation*}\n",
    "\\sum_{j=-N}^N \\alpha_j G_j(x_i) = f(x_i).\n",
    "\\end{equation*}\n",
    "This is equivalent to a matrix-vector problem:\n",
    "\\begin{equation*}\n",
    "\\mathbf{G} \\boldsymbol{\\alpha} = \\mathbf{f}.\n",
    "\\end{equation*}"
   ]
  },
  {
   "cell_type": "code",
   "execution_count": 232,
   "metadata": {},
   "outputs": [
    {
     "name": "stdout",
     "output_type": "stream",
     "text": [
      "0.4472135954999579\n"
     ]
    }
   ],
   "source": [
    "# I'm setting sigma here to be the square root of the grid spacing\n",
    "# This just turns out to be a lucky guess!\n",
    "sigma = np.sqrt(dx)\n",
    "print(sigma)\n",
    "\n",
    "Gmat = np.zeros((2*N+1, 2*N+1))\n",
    "for i in range(2*N+1):\n",
    "    for j in range(2*N+1):\n",
    "        Gmat[i,j] = ((2*np.pi*sigma**2)**(-0.5))*np.exp(-(xgrid[i] - xgrid[j])**2 / (2*sigma**2) )"
   ]
  },
  {
   "cell_type": "code",
   "execution_count": 233,
   "metadata": {},
   "outputs": [],
   "source": [
    "# this is Gmat \\ fgrid in Matlab\n",
    "alpha = np.linalg.solve(Gmat, fgrid)"
   ]
  },
  {
   "cell_type": "code",
   "execution_count": 234,
   "metadata": {},
   "outputs": [
    {
     "data": {
      "image/png": "[encoded data removed]",
      "text/plain": [
       "<Figure size 432x288 with 1 Axes>"
      ]
     },
     "metadata": {
      "needs_background": "light"
     },
     "output_type": "display_data"
    }
   ],
   "source": [
    "hgrid = np.array(list(map(h, xigrid)))\n",
    "plt.scatter(xigrid, hgrid)\n",
    "plt.ylim(0,1)\n",
    "plt.scatter(xgrid,fgrid,color='red')\n",
    "plt.show()"
   ]
  },
  {
   "cell_type": "code",
   "execution_count": 235,
   "metadata": {},
   "outputs": [
    {
     "name": "stdout",
     "output_type": "stream",
     "text": [
      "1.5725075519868317e-07\n"
     ]
    }
   ],
   "source": [
    "hmse = np.mean( (hgrid - f(xigrid))**2 )\n",
    "print(hmse)"
   ]
  },
  {
   "cell_type": "code",
   "execution_count": null,
   "metadata": {},
   "outputs": [],
   "source": []
  }
 ],
 "metadata": {
  "kernelspec": {
   "display_name": "Python 3",
   "language": "python",
   "name": "python3"
  },
  "language_info": {
   "codemirror_mode": {
    "name": "ipython",
    "version": 3
   },
   "file_extension": ".py",
   "mimetype": "text/x-python",
   "name": "python",
   "nbconvert_exporter": "python",
   "pygments_lexer": "ipython3",
   "version": "3.8.3"
  }
 },
 "nbformat": 4,
 "nbformat_minor": 4
}
