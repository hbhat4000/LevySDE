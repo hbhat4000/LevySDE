{
 "cells": [
  {
   "cell_type": "code",
   "execution_count": 1,
   "metadata": {},
   "outputs": [],
   "source": [
    "import numpy as np\n",
    "import scipy.special as sspec\n",
    "import scipy.stats as ss\n",
    "import scipy.linalg as sl\n",
    "import multiprocessing as mp\n",
    "import time\n",
    "\n",
    "%matplotlib inline \n",
    "import matplotlib.pyplot as plt"
   ]
  },
  {
   "cell_type": "code",
   "execution_count": 2,
   "metadata": {},
   "outputs": [],
   "source": [
    "def drift(x):\n",
    "    out = -x**3 + 4*x\n",
    "    return out\n",
    "\n",
    "g = 0.1"
   ]
  },
  {
   "cell_type": "code",
   "execution_count": 3,
   "metadata": {},
   "outputs": [],
   "source": [
    "# set up grids of s and u values\n",
    "smax = 2000\n",
    "sres = 4000\n",
    "ds = 2*smax/sres\n",
    "svec = -smax + ds*np.arange(sres)\n",
    "uvec = np.copy(svec)\n",
    "\n",
    "# set up integrand\n",
    "alpha = 1.0\n",
    "beta = ds**2/5\n",
    "def f(x,s,h):\n",
    "    return np.exp(1j*s*h*drift(x) - h*(np.abs(s)*g)**alpha - beta*(x**2)/4) "
   ]
  },
  {
   "cell_type": "code",
   "execution_count": 4,
   "metadata": {},
   "outputs": [
    {
     "data": {
      "text/plain": [
       "1.0"
      ]
     },
     "execution_count": 4,
     "metadata": {},
     "output_type": "execute_result"
    }
   ],
   "source": [
    "ds"
   ]
  },
  {
   "cell_type": "code",
   "execution_count": 5,
   "metadata": {},
   "outputs": [],
   "source": [
    "# set the value of h\n",
    "thish = 0.01\n",
    "\n",
    "# set the initial condition parameters\n",
    "mymean = 0.0\n",
    "mysd = 0.1\n",
    "\n",
    "# set the initial pdf\n",
    "def initp(x):\n",
    "    return ss.norm.pdf(x,loc=mymean,scale=mysd)\n",
    "\n",
    "# set the initial charfun\n",
    "def initpcf(s):\n",
    "    return np.exp(1j*mymean*s - 0.5*(mysd*s)**2)"
   ]
  },
  {
   "cell_type": "code",
   "execution_count": 6,
   "metadata": {},
   "outputs": [],
   "source": [
    "# set up x grid for integration\n",
    "Nx = 512\n",
    "L = 16\n",
    "dx = L/Nx\n",
    "xvec = np.arange(-L/2,L/2,dx)"
   ]
  },
  {
   "cell_type": "code",
   "execution_count": 7,
   "metadata": {},
   "outputs": [],
   "source": [
    "# initialize kernel matrix\n",
    "# kernelmat = np.zeros((sres,sres),dtype='D')"
   ]
  },
  {
   "cell_type": "code",
   "execution_count": 8,
   "metadata": {},
   "outputs": [
    {
     "data": {
      "text/plain": [
       "-480.0"
      ]
     },
     "execution_count": 8,
     "metadata": {},
     "output_type": "execute_result"
    }
   ],
   "source": [
    "drift(L/2)"
   ]
  },
  {
   "cell_type": "code",
   "execution_count": 9,
   "metadata": {},
   "outputs": [],
   "source": [
    "def computeonerow(i):\n",
    "    \n",
    "    outrow = np.zeros(sres,dtype='D')\n",
    "    s = svec[i]\n",
    "    \n",
    "    # compute shifted coordinate\n",
    "    k = s - uvec\n",
    "        \n",
    "    # compute integral for all values of u\n",
    "    for j in range(Nx):\n",
    "        \n",
    "        # compute quadrature points\n",
    "        x1 = xvec[j]\n",
    "        x2 = x1 + dx\n",
    "        \n",
    "        # product quadrature rule\n",
    "        m0 = np.divide((np.exp(1j*k*x2) - np.exp(1j*k*x1)), 1j*k, \n",
    "                       out=dx*np.ones_like(k,dtype='D'), where=k!=0)\n",
    "        m1 = np.divide((x2*np.exp(1j*k*x2) - x1*np.exp(1j*k*x1)), 1j*k, \n",
    "                       out=0.5*(x2**2 - x1**2)*np.ones_like(k,dtype='D'), where=k!=0)\n",
    "        m1 += np.divide((np.exp(1j*k*x2) - np.exp(1j*k*x1)), k**2, \n",
    "                        out=np.zeros_like(k,dtype='D'), where=k!=0)\n",
    "        \n",
    "        # compute quadrature weights\n",
    "        w1 = -(m1 - x2*m0)/dx\n",
    "        w2 = (m1 - x1*m0)/dx\n",
    "        \n",
    "        # compute integral over [x1, x2]\n",
    "        outrow += w1*f(x1,s,thish) + w2*f(x2,s,thish)\n",
    "    \n",
    "    outrow /= (2.0*np.pi)\n",
    "    \n",
    "    # add asymptotic correction\n",
    "    asymp = -(k**2)/beta - thish*(np.abs(s*g)**alpha) - ((beta*L - 4j*k)/(4*np.sqrt(beta)))**2\n",
    "    asymp2 = np.log(sspec.wofz(1j*(beta*L - 4j*k)/(4*np.sqrt(beta))))\n",
    "    asymp3 = 2*np.sqrt(beta*np.pi)\n",
    "    totalasymp = 2.0*np.real(np.exp(asymp + asymp2))/asymp3\n",
    "    outrow += totalasymp\n",
    "    \n",
    "    return outrow\n"
   ]
  },
  {
   "cell_type": "code",
   "execution_count": 10,
   "metadata": {},
   "outputs": [],
   "source": [
    "# print(sspec.wofz(1j*(beta*L - 4j*(-uvec))/(4*np.sqrt(beta))))\n",
    "# print(np.exp( -uvec**2/beta ))\n",
    "# computeonerow(100)"
   ]
  },
  {
   "cell_type": "code",
   "execution_count": 11,
   "metadata": {},
   "outputs": [
    {
     "name": "stdout",
     "output_type": "stream",
     "text": [
      "622.1033022403717\n"
     ]
    }
   ],
   "source": [
    "curtime = time.time()\n",
    "pool = mp.Pool(processes=16)\n",
    "kernelmat = np.vstack(pool.map(computeonerow, range(sres)))\n",
    "timetaken = time.time() - curtime\n",
    "print(timetaken)\n",
    "pool.close()\n"
   ]
  },
  {
   "cell_type": "code",
   "execution_count": 12,
   "metadata": {},
   "outputs": [
    {
     "name": "stdout",
     "output_type": "stream",
     "text": [
      "7.953750559307646\n"
     ]
    }
   ],
   "source": [
    "print(sl.norm(kernelmat,np.inf))"
   ]
  },
  {
   "cell_type": "code",
   "execution_count": 13,
   "metadata": {},
   "outputs": [
    {
     "data": {
      "text/plain": [
       "[<matplotlib.lines.Line2D at 0x7fbf546e3fd0>]"
      ]
     },
     "execution_count": 13,
     "metadata": {},
     "output_type": "execute_result"
    },
    {
     "data": {
      "image/png": "[encoded data removed]",
      "text/plain": [
       "<Figure size 432x288 with 1 Axes>"
      ]
     },
     "metadata": {
      "needs_background": "light"
     },
     "output_type": "display_data"
    }
   ],
   "source": [
    "plt.plot(svec, np.abs(initpcf(svec)))"
   ]
  },
  {
   "cell_type": "code",
   "execution_count": 14,
   "metadata": {},
   "outputs": [],
   "source": [
    "colloc = np.zeros((sres,sres))\n",
    "for i in range(sres):\n",
    "    for j in range(sres):\n",
    "        colloc[i,j] = np.exp(-(i*ds - j*ds)**2/beta)"
   ]
  },
  {
   "cell_type": "code",
   "execution_count": 15,
   "metadata": {},
   "outputs": [
    {
     "name": "stdout",
     "output_type": "stream",
     "text": [
      "1.2615654162873775 1.0\n",
      "1.261565496919334 1.0\n",
      "1.2615655789358902 1.0\n",
      "1.2615656553967243 1.0\n",
      "1.2615657236532456 1.0\n",
      "1.2615657813055072 1.0\n",
      "1.2615658296396925 1.0\n",
      "1.2615658694927212 1.0\n",
      "1.2615659016484257 1.0\n",
      "1.2615659276971225 1.0\n",
      "1.2615659485527342 1.0\n",
      "1.2615659649599318 1.0\n",
      "1.2615659777637904 1.0\n",
      "1.2615659877714447 1.0\n",
      "1.2615659955899505 1.0\n",
      "1.2615660016649595 1.0\n",
      "1.2615660063862166 1.0\n",
      "1.2615660100362889 1.0\n",
      "1.2615660128454178 1.0\n",
      "1.261566015003268 1.0\n",
      "1.2615660166599407 1.0\n",
      "1.2615660179300583 1.0\n",
      "1.2615660189028874 1.0\n",
      "1.2615660196467353 1.0\n",
      "1.2615660202142172 1.0\n",
      "1.2615660206464214 1.0\n",
      "1.2615660209752413 1.0\n",
      "1.2615660212251751 1.0\n",
      "1.2615660214149698 1.0\n",
      "1.2615660215589635 1.0\n",
      "1.2615660216681301 1.0\n",
      "1.2615660217508466 1.0\n",
      "1.2615660218134899 1.0\n",
      "1.2615660218609102 1.0\n",
      "1.2615660218967926 1.0\n",
      "1.2615660219239353 1.0\n",
      "1.26156602194446 1.0\n",
      "1.2615660219599698 1.0\n",
      "1.2615660219716929 1.0\n",
      "1.2615660219805462 1.0\n",
      "1.26156602198723 1.0\n",
      "1.261566021992279 1.0\n",
      "1.2615660219960874 1.0\n",
      "1.2615660219989593 1.0\n",
      "1.2615660220011296 1.0\n",
      "1.261566022002763 1.0\n",
      "1.261566022003997 1.0\n",
      "1.261566022004927 1.0\n",
      "1.2615660220056288 1.0\n",
      "1.261566022006156 1.0\n"
     ]
    },
    {
     "data": {
      "text/plain": [
       "[<matplotlib.lines.Line2D at 0x7fbf4c6caf40>]"
      ]
     },
     "execution_count": 15,
     "metadata": {},
     "output_type": "execute_result"
    },
    {
     "data": {
      "image/png": "[encoded data removed]",
      "text/plain": [
       "<Figure size 432x288 with 1 Axes>"
      ]
     },
     "metadata": {
      "needs_background": "light"
     },
     "output_type": "display_data"
    }
   ],
   "source": [
    "# cf = initpcf(svec)\n",
    "coef = np.zeros(sres)\n",
    "coef[sres//2] = 1\n",
    "numsteps = 50\n",
    "for i in range(numsteps):\n",
    "    cf = np.real(np.dot(kernelmat,coef))\n",
    "    oldmax = cf[sres//2]\n",
    "    cf /= np.max(cf)\n",
    "    print(oldmax, cf[sres//2])\n",
    "    coef = sl.solve(colloc, cf)\n",
    "    \n",
    "plt.plot(svec, np.abs(cf))"
   ]
  },
  {
   "cell_type": "code",
   "execution_count": 32,
   "metadata": {},
   "outputs": [
    {
     "data": {
      "text/plain": [
       "[<matplotlib.lines.Line2D at 0x11c186b38>]"
      ]
     },
     "execution_count": 32,
     "metadata": {},
     "output_type": "execute_result"
    },
    {
     "data": {
      "image/png": "[encoded data removed]",
      "text/plain": [
       "<matplotlib.figure.Figure at 0x11ca3ebe0>"
      ]
     },
     "metadata": {},
     "output_type": "display_data"
    }
   ],
   "source": [
    "# set up x grid for plotting\n",
    "Lplot = 8\n",
    "dxplot = 1/(sres*ds)\n",
    "xplot = np.arange(-Lplot/2,Lplot/2,dxplot)\n",
    "Nxplot = xplot.shape[0]\n",
    "\n",
    "# initial PDF\n",
    "plt.plot(xplot, initp(xplot))"
   ]
  },
  {
   "cell_type": "code",
   "execution_count": 33,
   "metadata": {},
   "outputs": [],
   "source": [
    "# Fourier matrix\n",
    "fouriermat = np.zeros((Nxplot,sres),dtype='D')\n",
    "for i in range(Nxplot):\n",
    "    fouriermat[i,] = np.exp(-1j*uvec*xplot[i])/(2.0*np.pi)\n"
   ]
  },
  {
   "cell_type": "code",
   "execution_count": 34,
   "metadata": {},
   "outputs": [
    {
     "data": {
      "text/plain": [
       "[<matplotlib.lines.Line2D at 0x11b9eb320>]"
      ]
     },
     "execution_count": 34,
     "metadata": {},
     "output_type": "execute_result"
    },
    {
     "data": {
      "image/png": "[encoded data removed]",
      "text/plain": [
       "<matplotlib.figure.Figure at 0x11ca3edd8>"
      ]
     },
     "metadata": {},
     "output_type": "display_data"
    }
   ],
   "source": [
    "# PDF at next time step\n",
    "plt.plot(xplot, np.real(dxplot*np.dot(fouriermat,cf)))"
   ]
  }
 ],
 "metadata": {
  "anaconda-cloud": {},
  "kernelspec": {
   "display_name": "Python 3",
   "language": "python",
   "name": "python3"
  },
  "language_info": {
   "codemirror_mode": {
    "name": "ipython",
    "version": 3
   },
   "file_extension": ".py",
   "mimetype": "text/x-python",
   "name": "python",
   "nbconvert_exporter": "python",
   "pygments_lexer": "ipython3",
   "version": "3.8.3"
  }
 },
 "nbformat": 4,
 "nbformat_minor": 2
}
