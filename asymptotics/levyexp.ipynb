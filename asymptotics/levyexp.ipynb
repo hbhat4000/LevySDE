{
 "cells": [
  {
   "cell_type": "code",
   "execution_count": 1,
   "metadata": {
    "collapsed": true
   },
   "outputs": [],
   "source": [
    "import numpy as np\n",
    "import scipy.special as sspec"
   ]
  },
  {
   "cell_type": "code",
   "execution_count": 2,
   "metadata": {
    "collapsed": true
   },
   "outputs": [],
   "source": [
    "def drift(x):\n",
    "    return np.arctan(x)\n",
    "\n",
    "def diff(x):\n",
    "    return np.sqrt(1 + x**2)"
   ]
  },
  {
   "cell_type": "code",
   "execution_count": 3,
   "metadata": {
    "collapsed": false
   },
   "outputs": [],
   "source": [
    "def f(x,s,h):\n",
    "    return np.exp(1j*s*h*drift(x) - h*np.abs(s)*diff(x)) \n",
    "\n",
    "def regf(x,s,h):\n",
    "    return (np.exp(1j*s*h*drift(x) - h*np.abs(s)*diff(x)) - np.exp(-np.abs(s)*np.square(x)))"
   ]
  },
  {
   "cell_type": "code",
   "execution_count": 4,
   "metadata": {
    "collapsed": false
   },
   "outputs": [],
   "source": [
    "# set up grids of s and u values\n",
    "smin = -100\n",
    "smax = 100\n",
    "sres = 10000\n",
    "ds = (smax-smin)/sres\n",
    "svec = smin + ds*np.arange(sres)\n",
    "uvec = np.copy(svec)"
   ]
  },
  {
   "cell_type": "code",
   "execution_count": 5,
   "metadata": {
    "collapsed": false
   },
   "outputs": [],
   "source": [
    "# set the value of h\n",
    "thish = 0.01\n",
    "\n",
    "# set the initial condition parameters\n",
    "mymean = 0.5\n",
    "mysd = 0.1\n",
    "\n",
    "# set the initial pdf\n",
    "import scipy.stats as ss\n",
    "def initp(x):\n",
    "    return ss.norm.pdf(x,loc=mymean,scale=mysd)\n",
    "\n",
    "# set the initial charfun\n",
    "def initpcf(s):\n",
    "    return np.exp(1j*mymean*s - 0.5*(mysd*s)**2)"
   ]
  },
  {
   "cell_type": "code",
   "execution_count": 6,
   "metadata": {
    "collapsed": false
   },
   "outputs": [],
   "source": [
    "# set up x grid for integration\n",
    "Nx = 128\n",
    "L = 12.8\n",
    "dx = L/Nx\n",
    "xvec = np.arange(-L/2,L/2,dx)"
   ]
  },
  {
   "cell_type": "code",
   "execution_count": 7,
   "metadata": {
    "collapsed": false
   },
   "outputs": [],
   "source": [
    "# initialize kernel matrix\n",
    "kernelmat = np.zeros((sres,sres),dtype='D')\n",
    "\n",
    "for i in range(sres):\n",
    "    \n",
    "    # handle special Dirac delta case\n",
    "    if i==(sres//2):\n",
    "        kernelmat[i,i] = 1.0/ds\n",
    "        continue\n",
    "    \n",
    "    # handle \"boundary layer\" near Dirac delta\n",
    "    if np.abs(svec[i])<1.0:\n",
    "        kernelmat[i,sres//2] = 1.0/ds\n",
    "        kernelmat[i,(sres//2 + 1)] = svec[i]*0.5/(ds*ds)\n",
    "        kernelmat[i,(sres//2 - 1)] = -svec[i]*0.5/(ds*ds)\n",
    "        continue\n",
    "    \n",
    "    # compute shifted coordinate\n",
    "    s = svec[i]\n",
    "    k = s - uvec\n",
    "        \n",
    "    # compute integral for all values of u\n",
    "    for j in range(Nx):\n",
    "        \n",
    "        # compute quadrature points\n",
    "        x1 = xvec[j]\n",
    "        x2 = x1 + dx\n",
    "        \n",
    "        # product quadrature rule\n",
    "        m0 = np.divide((np.exp(1j*k*x2) - np.exp(1j*k*x1)), 1j*k, \n",
    "                       out=dx*np.ones_like(k,dtype='D'), where=k!=0)\n",
    "        m1 = np.divide((x2*np.exp(1j*k*x2) - x1*np.exp(1j*k*x1)), 1j*k, \n",
    "                       out=0.5*(x2**2 - x1**2)*np.ones_like(k,dtype='D'), where=k!=0)\n",
    "        m1 += np.divide((np.exp(1j*k*x2) - np.exp(1j*k*x1)), k**2, \n",
    "                        out=np.zeros_like(k,dtype='D'), where=k!=0)\n",
    "        \n",
    "        # compute quadrature weights\n",
    "        w1 = -(m1 - x2*m0)/dx\n",
    "        w2 = (m1 - x1*m0)/dx\n",
    "        \n",
    "        # compute integral over [x1, x2]\n",
    "        kernelmat[i,] += w1*f(x1,s,thish) + w2*f(x2,s,thish)\n",
    "    \n",
    "    # add asymptotic corrections\n",
    "    kernelmat[i,] += (1j*np.exp((1j*(thish*np.pi*svec[i] + L*k + 1j*thish*L*np.abs(svec[i])))/2.))/(k + 1j*thish*np.abs(svec[i]))\n",
    "    kernelmat[i,] += (-1j*np.exp((-1j*(thish*np.pi*svec[i] + L*k - 1j*thish*L*np.abs(svec[i])))/2.))/(k - 1j*thish*np.abs(svec[i]))\n",
    "    kernelmat[i,] /= 2.0*np.pi\n",
    "    \n",
    "    # add regularized asymptotic corrections\n",
    "    # ss = np.abs(s)\n",
    "    # part1 = (1j*np.exp((1j*(thish*np.pi*s + L*k + 1j*thish*L*ss))/2.))/(k + 1j*thish*ss)\n",
    "    # part2 = -np.exp(-k**2/(4*ss))*np.sqrt(np.pi)*sspec.erfc((-1j*k + L*ss)/(2.0*np.sqrt(ss)))/(2.0*np.sqrt(ss))\n",
    "    # kernelmat[i,] += 2.0*np.real(part1 + part2)\n"
   ]
  },
  {
   "cell_type": "code",
   "execution_count": 8,
   "metadata": {
    "collapsed": false
   },
   "outputs": [],
   "source": [
    "%matplotlib inline \n",
    "import matplotlib.pyplot as plt"
   ]
  },
  {
   "cell_type": "code",
   "execution_count": 41,
   "metadata": {
    "collapsed": false
   },
   "outputs": [
    {
     "data": {
      "text/plain": [
       "[<matplotlib.lines.Line2D at 0x7fc4ad2bff98>]"
      ]
     },
     "execution_count": 41,
     "metadata": {},
     "output_type": "execute_result"
    },
    {
     "data": {
      "image/png": "[encoded data removed]",
      "text/plain": [
       "<Figure size 432x288 with 1 Axes>"
      ]
     },
     "metadata": {},
     "output_type": "display_data"
    }
   ],
   "source": [
    "plt.plot(uvec, ds*np.abs(kernelmat[(sres//2+45),]))"
   ]
  },
  {
   "cell_type": "code",
   "execution_count": 23,
   "metadata": {
    "collapsed": false
   },
   "outputs": [
    {
     "data": {
      "text/plain": [
       "[<matplotlib.lines.Line2D at 0x7fc4ad4f14a8>]"
      ]
     },
     "execution_count": 23,
     "metadata": {},
     "output_type": "execute_result"
    },
    {
     "data": {
      "image/png": "[encoded data removed]",
      "text/plain": [
       "<Figure size 432x288 with 1 Axes>"
      ]
     },
     "metadata": {},
     "output_type": "display_data"
    }
   ],
   "source": [
    "plt.plot(xvec, initp(xvec))"
   ]
  },
  {
   "cell_type": "code",
   "execution_count": 25,
   "metadata": {
    "collapsed": false
   },
   "outputs": [
    {
     "data": {
      "text/plain": [
       "[<matplotlib.lines.Line2D at 0x7fc4ad46e438>]"
      ]
     },
     "execution_count": 25,
     "metadata": {},
     "output_type": "execute_result"
    },
    {
     "data": {
      "image/png": "[encoded data removed]",
      "text/plain": [
       "<Figure size 432x288 with 1 Axes>"
      ]
     },
     "metadata": {},
     "output_type": "display_data"
    }
   ],
   "source": [
    "plt.plot(svec, np.abs(initpcf(svec)))"
   ]
  },
  {
   "cell_type": "code",
   "execution_count": 26,
   "metadata": {
    "collapsed": false
   },
   "outputs": [
    {
     "data": {
      "text/plain": [
       "[<matplotlib.lines.Line2D at 0x7fc4ad4ab828>]"
      ]
     },
     "execution_count": 26,
     "metadata": {},
     "output_type": "execute_result"
    },
    {
     "data": {
      "image/png": "[encoded data removed]",
      "text/plain": [
       "<Figure size 432x288 with 1 Axes>"
      ]
     },
     "metadata": {},
     "output_type": "display_data"
    }
   ],
   "source": [
    "cf = ds*np.dot(kernelmat, initpcf(svec))\n",
    "plt.plot(svec, np.abs(cf))"
   ]
  },
  {
   "cell_type": "code",
   "execution_count": 28,
   "metadata": {
    "collapsed": false
   },
   "outputs": [
    {
     "data": {
      "text/plain": [
       "0.019999999999996021"
      ]
     },
     "execution_count": 28,
     "metadata": {},
     "output_type": "execute_result"
    }
   ],
   "source": [
    "svec[sres//2+1]"
   ]
  },
  {
   "cell_type": "code",
   "execution_count": 30,
   "metadata": {
    "collapsed": false
   },
   "outputs": [
    {
     "data": {
      "text/plain": [
       "0.0002"
      ]
     },
     "execution_count": 30,
     "metadata": {},
     "output_type": "execute_result"
    }
   ],
   "source": [
    "ds*thish"
   ]
  },
  {
   "cell_type": "code",
   "execution_count": 43,
   "metadata": {
    "collapsed": false
   },
   "outputs": [
    {
     "data": {
      "text/plain": [
       "1.0"
      ]
     },
     "execution_count": 43,
     "metadata": {},
     "output_type": "execute_result"
    }
   ],
   "source": [
    "svec[sres//2+50]"
   ]
  },
  {
   "cell_type": "code",
   "execution_count": null,
   "metadata": {
    "collapsed": true
   },
   "outputs": [],
   "source": []
  }
 ],
 "metadata": {
  "anaconda-cloud": {},
  "kernelspec": {
   "display_name": "Python [conda root]",
   "language": "python",
   "name": "conda-root-py"
  },
  "language_info": {
   "codemirror_mode": {
    "name": "ipython",
    "version": 3
   },
   "file_extension": ".py",
   "mimetype": "text/x-python",
   "name": "python",
   "nbconvert_exporter": "python",
   "pygments_lexer": "ipython3",
   "version": "3.5.4"
  }
 },
 "nbformat": 4,
 "nbformat_minor": 2
}
